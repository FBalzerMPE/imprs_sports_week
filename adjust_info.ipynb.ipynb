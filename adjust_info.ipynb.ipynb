{
 "cells": [
  {
   "cell_type": "markdown",
   "metadata": {},
   "source": [
    "# Adjust info\n",
    "\n",
    "This notebook is used to consider late entries, reschedule matches, and move players from and into subteams."
   ]
  },
  {
   "cell_type": "code",
   "execution_count": 32,
   "metadata": {},
   "outputs": [
    {
     "name": "stdout",
     "output_type": "stream",
     "text": [
      "Create an avatar showing a Loving Bichir with a white background.\n"
     ]
    }
   ],
   "source": [
    "from helper_functions import setup\n",
    "import numpy as np\n",
    "import matplotlib.pyplot as plt\n",
    "import helper_functions as hf\n",
    "from helper_functions.setup.team_creation import find_best_team_to_join\n",
    "from helper_functions.setup.openai_image_download import generate_all_images, save_resized_animal_images\n"
   ]
  },
  {
   "cell_type": "markdown",
   "metadata": {},
   "source": [
    "## Register latecomers\n",
    "\n",
    "Add all latecoming players, and add them as a reserve in each subteam for the best-fitting team."
   ]
  },
  {
   "cell_type": "code",
   "execution_count": 34,
   "metadata": {},
   "outputs": [],
   "source": [
    "player_df = setup.sanitize_and_anonymize_data(overwrite=True, verbose=False)\n",
    "late = player_df[player_df[\"late_entry\"]]\n",
    "teams = hf.get_teams()\n",
    "subteams = hf.ALL_SUBTEAMS.values()\n",
    "\n",
    "for _, player in late.iterrows():\n",
    "    name = player[\"nickname\"]\n",
    "    # Don't do anything if the player has already been added\n",
    "    if any([team.contains_player(name) for team in teams]):\n",
    "        continue\n",
    "    team_to_join = teams[find_best_team_to_join(teams, player)]\n",
    "    team_to_join.add_player(player, register_as_reserve=True)\n",
    "    print(f\"{name} joins {team_to_join.name}\")\n",
    "    generate_all_images([name])\n",
    "    save_resized_animal_images(150)\n"
   ]
  },
  {
   "cell_type": "code",
   "execution_count": null,
   "metadata": {},
   "outputs": [],
   "source": []
  }
 ],
 "metadata": {
  "kernelspec": {
   "display_name": "3_12_streamlit",
   "language": "python",
   "name": "python3"
  },
  "language_info": {
   "codemirror_mode": {
    "name": "ipython",
    "version": 3
   },
   "file_extension": ".py",
   "mimetype": "text/x-python",
   "name": "python",
   "nbconvert_exporter": "python",
   "pygments_lexer": "ipython3",
   "version": "3.12.2"
  }
 },
 "nbformat": 4,
 "nbformat_minor": 2
}
