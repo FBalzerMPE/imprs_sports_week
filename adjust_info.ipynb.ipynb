{
 "cells": [
  {
   "cell_type": "markdown",
   "metadata": {},
   "source": [
    "# Adjust info\n",
    "\n",
    "This notebook is used to consider late entries, reschedule matches, and move players from and into subteams."
   ]
  },
  {
   "cell_type": "code",
   "execution_count": 1,
   "metadata": {},
   "outputs": [],
   "source": [
    "from helper_functions import setup\n",
    "import numpy as np\n",
    "import matplotlib.pyplot as plt\n",
    "import helper_functions as hf\n",
    "from helper_functions.setup.team_creation import find_best_team_to_join\n",
    "from helper_functions.setup.openai_image_download import generate_all_images, save_resized_animal_images\n"
   ]
  },
  {
   "cell_type": "markdown",
   "metadata": {},
   "source": [
    "## Register latecomers\n",
    "\n",
    "Add all latecoming players, and add them as a reserve in each subteam for the best-fitting team."
   ]
  },
  {
   "cell_type": "code",
   "execution_count": 2,
   "metadata": {},
   "outputs": [],
   "source": [
    "player_df = setup.sanitize_and_anonymize_data(overwrite=True, verbose=False)\n",
    "late = player_df[player_df[\"late_entry\"]]\n",
    "teams = hf.get_teams()\n",
    "subteams = hf.ALL_SUBTEAMS.values()\n",
    "\n",
    "for _, player in late.iterrows():\n",
    "    name = player[\"nickname\"]\n",
    "    # Don't do anything if the player has already been added\n",
    "    if any([team.contains_player(name) for team in teams]):\n",
    "        continue\n",
    "    team_to_join = teams[find_best_team_to_join(teams, player)]\n",
    "    team_to_join.add_player(player, register_as_reserve=True)\n",
    "    print(f\"{name} joins {team_to_join.name}\")\n",
    "    generate_all_images([name])\n",
    "    save_resized_animal_images(150)\n"
   ]
  },
  {
   "cell_type": "markdown",
   "metadata": {},
   "source": [
    "## Move players from reserve to main team\n",
    "\n",
    "If players are attending a sport, even if just in reserve, and are substituted in, they should be registered there."
   ]
  },
  {
   "cell_type": "code",
   "execution_count": 6,
   "metadata": {},
   "outputs": [
    {
     "name": "stdout",
     "output_type": "stream",
     "text": [
      "The player you've chosen (Magnificent Barracuda) is currently not in a reserve team for volleyball, skipping.\n"
     ]
    }
   ],
   "source": [
    "sport = \"running_sprints\"\n",
    "player_name = \"Pushy Bulldog\"\n",
    "\n",
    "def move_player_from_reserve_to_subteam(player_name: str, new_subteam: int | str, sport: str, save=True):\n",
    "    \"\"\"Move a player from the reserve subteam in the given sport to the subteam with the provided key.\"\"\"\n",
    "    player_df = hf.get_players().set_index(\"nickname\", drop=False)\n",
    "    current_subteam = player_df.loc[player_name, f\"subteam_{sport}\"]\n",
    "    player_team: str = player_df.loc[player_name, \"Team\"]  # type: ignore\n",
    "    team_letter = player_team.replace(\"Team \", \"\")\n",
    "    assert f\"{sport}_{team_letter}: {new_subteam}\" in hf.ALL_SUBTEAMS\n",
    "    if current_subteam != \"R\":\n",
    "        print(f\"The player you've chosen ({player_name}) is currently not in a reserve team for {sport}, skipping.\")\n",
    "        return\n",
    "    print(f\"Setting new subteam '{new_subteam}' in {sport} for {player_name}\")\n",
    "    player_df.loc[player_name, f\"subteam_{sport}\"] = new_subteam\n",
    "    if save:\n",
    "        fpath = hf.Team.backup_path_from_letter(team_letter)\n",
    "        player_df[player_df[\"Team\"] == player_team].to_csv(fpath, index=False)\n",
    "move_player_from_reserve_to_subteam(\"Magnificent Barracuda\", 2, \"volleyball\")\n"
   ]
  },
  {
   "cell_type": "markdown",
   "metadata": {},
   "source": [
    "## Reschedule Matches\n",
    "\n",
    "Some matches need to be rescheduled. We can do that here."
   ]
  },
  {
   "cell_type": "code",
   "execution_count": 27,
   "metadata": {},
   "outputs": [
    {
     "name": "stdout",
     "output_type": "stream",
     "text": [
      "2024-04-29 17:45:00\n",
      "Rewritten the time for basketballA: 1B: 1 to 17:45 (Monday).\n",
      "2024-04-29 18:30:00\n",
      "Rewritten the time for basketballB: 1C: 1 to 18:30 (Monday).\n",
      "2024-04-29 19:15:00\n",
      "Rewritten the time for basketballC: 1A: 1 to 19:15 (Monday).\n",
      "No conflicts found.\n"
     ]
    }
   ],
   "source": [
    "from datetime import datetime, time\n",
    "from helper_functions.setup.match_scheduling import write_match_backup_from_df\n",
    "from itertools import combinations\n",
    "\n",
    "def reschedule_match_to_new_time(match_key: str, new_time: datetime | time, check_overlaps: bool = False):\n",
    "    matches = hf.get_match_df().set_index(\"full_key\", drop=False)\n",
    "    old_time = matches.loc[match_key, \"start\"]\n",
    "    if isinstance(new_time, time):\n",
    "        new_time = datetime.combine(old_time, new_time)  # type: ignore\n",
    "        print(new_time)\n",
    "    matches.loc[match_key, \"start\"] = new_time\n",
    "    matches.loc[match_key, \"day\"] = new_time.strftime(\"%A\")\n",
    "    matches.loc[match_key, \"time\"] = new_time.strftime(\"%H:%M\")\n",
    "    print(f\"Rewritten the time for {match_key} to {new_time.strftime(\"%H:%M (%A)\")}.\")\n",
    "    write_match_backup_from_df(matches, True)\n",
    "    if check_overlaps:\n",
    "        matches = hf.get_matches()\n",
    "        num_conflicts = np.sum([comb[0].has_hard_collision(comb[1], verbose=True) for comb in combinations(matches, 2)])\n",
    "        if num_conflicts == 0:\n",
    "            print(\"No conflicts found.\")\n",
    "\n",
    "\n",
    "new_start_time = datetime(2024, 4, 29, 17, 45)\n",
    "\n",
    "reschedule_match_to_new_time(\"basketballA: 1B: 1\", time(17, 45))\n",
    "reschedule_match_to_new_time(\"basketballB: 1C: 1\", time(18, 30))\n",
    "reschedule_match_to_new_time(\"basketballC: 1A: 1\", time(19, 15), True)\n"
   ]
  }
 ],
 "metadata": {
  "kernelspec": {
   "display_name": "3_12_streamlit",
   "language": "python",
   "name": "python3"
  },
  "language_info": {
   "codemirror_mode": {
    "name": "ipython",
    "version": 3
   },
   "file_extension": ".py",
   "mimetype": "text/x-python",
   "name": "python",
   "nbconvert_exporter": "python",
   "pygments_lexer": "ipython3",
   "version": "3.12.2"
  }
 },
 "nbformat": 4,
 "nbformat_minor": 2
}
