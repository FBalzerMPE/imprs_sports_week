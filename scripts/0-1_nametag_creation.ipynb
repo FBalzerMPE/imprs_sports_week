{
 "cells": [
  {
   "cell_type": "markdown",
   "metadata": {},
   "source": [
    "# Everything involving nicknames\n",
    "\n",
    "In this notebook, we call the ChatGPT API to generate the animal pictures for us, and generate a pdf that links the nicknames to the real names.\n",
    "\n",
    "## Image generation"
   ]
  },
  {
   "cell_type": "code",
   "execution_count": 12,
   "metadata": {},
   "outputs": [
    {
     "name": "stdout",
     "output_type": "stream",
     "text": [
      "Image for comfortable dunker already exists, skipping.\n",
      "Image for monstrous jackal already exists, skipping.\n",
      "Image for pushy bulldog already exists, skipping.\n",
      "Image for animated yak already exists, skipping.\n",
      "Create an avatar showing a arctic milkfish (the animal) with a white background.\n",
      "Create an avatar showing a sour sturgeon (the animal) with a white background.\n",
      "Image for real mouse already exists, skipping.\n",
      "Image for unwritten saiga already exists, skipping.\n",
      "Image for thankful kakapo already exists, skipping.\n",
      "Image for blank tiffany already exists, skipping.\n",
      "Image for awkward cichlid already exists, skipping.\n",
      "Image for grouchy mole already exists, skipping.\n",
      "Image for trifling tarpon already exists, skipping.\n",
      "Image for dishonest fangtooth already exists, skipping.\n",
      "Create an avatar showing a nervous badger (the animal) with a white background.\n",
      "Image for ignorant lemur already exists, skipping.\n",
      "Create an avatar showing a direct baboon (the animal) with a white background.\n",
      "Create an avatar showing a sharp gharial (the animal) with a white background.\n"
     ]
    }
   ],
   "source": [
    "import helper_functions as hf\n",
    "from helper_functions.setup.openai_image_download import generate_all_images, save_resized_animal_images\n",
    "\n",
    "df = hf.DATA_NOW.players\n",
    "\n",
    "\n",
    "animals = [animal.lower() for animal in df[\"nickname\"]]\n",
    "# # The following operation uses up openai credits, but is guarded against running multiple times for already existing images\n",
    "generate_all_images(animals)\n",
    "save_resized_animal_images(200)\n",
    "# animals[:3]\n"
   ]
  }
 ],
 "metadata": {
  "kernelspec": {
   "display_name": "3_12_streamlit",
   "language": "python",
   "name": "python3"
  },
  "language_info": {
   "codemirror_mode": {
    "name": "ipython",
    "version": 3
   },
   "file_extension": ".py",
   "mimetype": "text/x-python",
   "name": "python",
   "nbconvert_exporter": "python",
   "pygments_lexer": "ipython3",
   "version": "3.12.2"
  }
 },
 "nbformat": 4,
 "nbformat_minor": 2
}
