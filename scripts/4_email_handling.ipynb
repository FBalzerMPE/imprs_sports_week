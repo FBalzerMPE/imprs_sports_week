{
 "cells": [
  {
   "cell_type": "markdown",
   "metadata": {},
   "source": [
    "# Email-handling\n",
    "\n",
    "Send automated emails to the participants of the sports week."
   ]
  },
  {
   "cell_type": "code",
   "execution_count": 1,
   "metadata": {},
   "outputs": [
    {
     "name": "stdout",
     "output_type": "stream",
     "text": [
      "[sports_week: WARNING] - Couldn't load tennis_A2_B2.\n",
      "\tA: Stark Otter vs B: Animated Yak\n",
      "[sports_week: WARNING] - Couldn't load tennis_A1_B1.\n",
      "\tA: Outrageous Gar vs B: Open Iguana\n",
      "[sports_week: WARNING] - Couldn't load tennis_B6_C6.\n",
      "\tB: Unsteady Aardvark vs C: Writhing Beaver\n",
      "[sports_week: WARNING] - Couldn't load tennis_B2_C1.\n",
      "\tB: Animated Yak vs C: Eager Affenpinscher\n",
      "[sports_week: WARNING] - Couldn't load tennis_B1_C4.\n",
      "\tB: Open Iguana vs C: Arctic Milkfish\n",
      "[sports_week: WARNING] - Couldn't load tennis_A3_B6.\n",
      "\tA: Fearless Wrasse vs B: Unsteady Aardvark\n",
      "[sports_week: INFO] - Hello there! Logging is active.\n"
     ]
    }
   ],
   "source": [
    "import helper_functions as hf\n",
    "from helper_functions.classes.player import Player\n",
    "from helper_functions.setup.email_handling import get_email_address\n",
    "import markdown\n",
    "import numpy as np\n",
    "from pathlib import Path\n",
    "import pandas as pd\n",
    "import smtplib, ssl\n",
    "from email.mime.text import MIMEText\n",
    "from email.mime.multipart import MIMEMultipart\n",
    "from email.mime.base import MIMEBase\n",
    "from bs4 import BeautifulSoup\n",
    "from email import encoders\n",
    "from typing import Callable, Literal\n",
    "import yaml\n",
    "\n",
    "hf.LOGGER.setLevel(\"INFO\")\n",
    "hf.LOGGER.info(\"Hello there! Logging is active.\")\n"
   ]
  },
  {
   "cell_type": "code",
   "execution_count": 17,
   "metadata": {},
   "outputs": [],
   "source": [
    "FPATH_SENT_MAILS = hf.FpathRegistry.get_path_hidden().parent.joinpath(\"mails_sent.yml\")\n",
    "if not FPATH_SENT_MAILS.exists() or yaml.safe_load(FPATH_SENT_MAILS.read_text(encoding=\"utf-8\")) is None:\n",
    "    FPATH_SENT_MAILS.parent.mkdir(parents=True, exist_ok=True)\n",
    "    FPATH_SENT_MAILS.write_text(yaml.safe_dump({\"fee_reminder\": [], \"schedule\": [], \"confirmation_reminder\": [], \"schedule_update\": []}), encoding=\"utf-8\")\n",
    "\n",
    "def get_sent_mails(key: Literal[\"fee_reminder\", \"schedule\", \"confirmation_reminder\", \"schedule_update\"]) -> list[str]:\n",
    "    \"\"\"Load the sent mails from the YAML file.\"\"\"\n",
    "    return yaml.safe_load(FPATH_SENT_MAILS.read_text(encoding=\"utf-8\"))[key]\n",
    "\n",
    "def update_sent_mails(key: Literal[\"fee_reminder\", \"schedule\", \"confirmation_reminder\", \"schedule_update\"], new_name: str):\n",
    "    \"\"\"Update the sent mails in the YAML file.\"\"\"\n",
    "    assert new_name in hf.DATA_NOW.nickname_to_name_df[\"nickname\"].tolist(), f\"{new_name} is not a valid nickname.\"\n",
    "    sent_mails = yaml.safe_load(FPATH_SENT_MAILS.read_text(encoding=\"utf-8\"))\n",
    "    if new_name in sent_mails[key]:\n",
    "        print(f\"{new_name} already in {key}.\")\n",
    "        return\n",
    "    sent_mails[key].append(new_name)\n",
    "    FPATH_SENT_MAILS.write_text(yaml.safe_dump(sent_mails), encoding=\"utf-8\")\n",
    "\n",
    "# update_sent_mails(\"fee_reminder\", \"Pushy Bulldog\")\n"
   ]
  },
  {
   "cell_type": "markdown",
   "metadata": {},
   "source": [
    "## Sending out the emails\n",
    "\n",
    "Following tutorial at https://realpython.com/python-send-email/ to send out mails programmatically."
   ]
  },
  {
   "cell_type": "code",
   "execution_count": 19,
   "metadata": {},
   "outputs": [],
   "source": [
    "\n",
    "def write_email_to_player(player_nick: str, \n",
    "                          player_email: str, \n",
    "                          email_text: str, \n",
    "                          email_subject: str,\n",
    "                          sender_email: str, \n",
    "                          password: str, \n",
    "                          yaml_key: Literal[\"fee_reminder\", \"schedule\", \"confirmation_reminder\", \"schedule_update\"],\n",
    "                          im_path: Path | None = None,\n",
    "                          force=False,\n",
    "                          write_to_cc: bool = False,\n",
    "                          ) -> bool:\n",
    "    if not force and player_nick in get_sent_mails(yaml_key):\n",
    "        hf.LOGGER.info(f\"Mail to {player_nick} already sent. Skipping.\")\n",
    "        return False\n",
    "\n",
    "    html_text = markdown.markdown(email_text.replace(\"\\\\\", \"<br>\"))\n",
    "    soup = BeautifulSoup(html_text, 'html')\n",
    "    plain_text = soup.get_text()\n",
    "    # Turn these into plain/html MIMEText objects\n",
    "    message = MIMEMultipart(\"alternative\")\n",
    "    message[\"Subject\"] = email_subject\n",
    "    message[\"From\"] = sender_email\n",
    "    message[\"To\"] = player_email\n",
    "\n",
    "    part1 = MIMEText(plain_text, \"plain\")\n",
    "    part2 = MIMEText(html_text, \"html\")\n",
    "\n",
    "    if im_path is not None:\n",
    "        # Open png file in binary mode\n",
    "        with open(im_path, \"rb\") as attachment:\n",
    "            # Add file as application/octet-stream\n",
    "            # Email client can usually download this automatically as attachment\n",
    "            part3 = MIMEBase(\"application\", \"octet-stream\")\n",
    "            part3.set_payload(attachment.read())\n",
    "\n",
    "        # Encode file in ASCII characters to send by email    \n",
    "        encoders.encode_base64(part3)\n",
    "\n",
    "        # Add header as key/value pair to attachment part\n",
    "        part3.add_header(\n",
    "            \"Content-Disposition\",\n",
    "            f\"attachment; filename= {im_path.name}\",\n",
    "        )\n",
    "        message.attach(part3)\n",
    "\n",
    "    # Add HTML/plain-text parts to MIMEMultipart message\n",
    "    # The email client will try to render the last part first\n",
    "    message.attach(part1)\n",
    "    message.attach(part2)\n",
    "\n",
    "    # - Actually send the mail\n",
    "    hf.LOGGER.info(f\"Sending mail to {player_nick}...\")\n",
    "    port = 587\n",
    "    # Create secure connection with server and send email\n",
    "    context = ssl.create_default_context()\n",
    "    recipients = [player_email]\n",
    "    if write_to_cc:\n",
    "        recipients.append(sender_email)\n",
    "    with smtplib.SMTP(\"ssmtp.mpe.mpg.de\", port) as server:\n",
    "        server.starttls(context=context) \n",
    "        server.login(\"fbalzer\", password)\n",
    "        server.sendmail(\n",
    "            sender_email, recipients, message.as_string()\n",
    "        )\n",
    "    update_sent_mails(yaml_key, player_nick)\n",
    "    return True\n",
    "# for nickname in df.sort_values(\"response_timestamp\")[\"nickname\"]:\n",
    "#     write_email_to_player(df.loc[nickname], sender_email, password, force=False)\n",
    "\n"
   ]
  },
  {
   "cell_type": "code",
   "execution_count": 4,
   "metadata": {},
   "outputs": [],
   "source": [
    "# LOG IN\n",
    "\n",
    "SENDER_PASSWORD = input(\"Type your password and press enter:\")\n",
    "SENDER_MAIL = \"@\".join([\"fbalzer\", \"mpe.mpg.de\"])  # slight protection against sp am\n",
    "\n"
   ]
  },
  {
   "cell_type": "markdown",
   "metadata": {},
   "source": [
    "### Part 1: Reminder for fee payment"
   ]
  },
  {
   "cell_type": "code",
   "execution_count": 5,
   "metadata": {},
   "outputs": [],
   "source": [
    "HIDDEN_DF = hf.FpathRegistry.get_hidden_responses().set_index(\"nickname\", drop=False)\n"
   ]
  },
  {
   "cell_type": "code",
   "execution_count": 6,
   "metadata": {},
   "outputs": [
    {
     "data": {
      "text/plain": [
       "(186, 13)"
      ]
     },
     "execution_count": 6,
     "metadata": {},
     "output_type": "execute_result"
    }
   ],
   "source": [
    "unpaid = HIDDEN_DF[~HIDDEN_DF[\"has_paid_fee\"]]\n",
    "len(HIDDEN_DF), len(unpaid)\n"
   ]
  },
  {
   "cell_type": "code",
   "execution_count": 7,
   "metadata": {},
   "outputs": [],
   "source": [
    "def get_reminder_text(player: pd.Series) -> tuple[str, str]:\n",
    "    base_text = hf.DATAPATH.joinpath(\"helper_texts/email_1_reminder_text.md\").read_text(encoding=\"utf-8\")\n",
    "    first_name, nickname = player[\"name\"].split()[0],  player[\"nickname\"]\n",
    "    text = base_text.format(first_name=first_name, nickname=nickname)\n",
    "    email = player[\"email\"]\n",
    "    html_text = markdown.markdown(text.replace(\"\\\\\", \"<br>\"))\n",
    "    return email, html_text\n",
    "\n",
    "\n",
    "def _send_fee_reminder(player: pd.Series):\n",
    "    player_email, email_text = get_reminder_text(player)\n",
    "    subject = \"[SPORTS WEEK]: Fee Reminder\"\n",
    "    write_email_to_player(player[\"nickname\"], player_email, email_text, subject, SENDER_MAIL, SENDER_PASSWORD, \"fee_reminder\", force=False)\n"
   ]
  },
  {
   "cell_type": "code",
   "execution_count": null,
   "metadata": {},
   "outputs": [],
   "source": [
    "print(SENDER_MAIL.split(\"@\")[1])  # Will raise exception if not logged in\n",
    "for _, player in unpaid.iterrows():\n",
    "    _send_fee_reminder(player)\n"
   ]
  },
  {
   "cell_type": "code",
   "execution_count": null,
   "metadata": {},
   "outputs": [
    {
     "data": {
      "text/plain": [
       "192"
      ]
     },
     "execution_count": 22,
     "metadata": {},
     "output_type": "execute_result"
    }
   ],
   "source": [
    "df = hf.DATA_NOW.players.set_index(\"nickname\", drop=False)\n",
    "\n",
    "df = df.join(HIDDEN_DF[[col for col in HIDDEN_DF.columns if not col in df.columns]], how=\"left\")\n",
    "# Filter out any people that are not part of any sports whatsoever (usually shouldn't be the case)\n",
    "df = df[np.any([df[f\"subteam_{s}\"] != \"\" for s in hf.DATA_NOW.sport_events], axis=0)]\n"
   ]
  },
  {
   "cell_type": "code",
   "execution_count": 60,
   "metadata": {},
   "outputs": [],
   "source": [
    "def _load_links() -> dict[str, str]:\n",
    "    file = hf.FpathRegistry.get_path_hidden().joinpath(\"links.yml\").read_text(encoding=\"utf-8\")\n",
    "    return yaml.safe_load(file)\n",
    "\n",
    "def _get_payment_text(has_paid: bool):\n",
    "    if has_paid:\n",
    "        return \"💸 We have received your 2 € fee payment, thanks a lot!\"\n",
    "    email = _load_links()[\"paypal_address\"]\n",
    "    return f\"💸 Please pay the 2 € participation fee before the sports week starts, e.g. via PayPal to {email}! Thanks in advance.\"\n",
    "\n",
    "def get_initial_schedule_text_for_player(player: pd.Series) -> tuple[str, str, Path]:\n",
    "    email_base_text = hf.DATAPATH.joinpath(\"helper_texts/email_2_schedule.md\").read_text(encoding=\"utf-8\")\n",
    "    first_name = player[\"name\"].split()[0]\n",
    "    nickname = player[\"nickname\"]\n",
    "    team_name = player[\"Team\"]\n",
    "    cloth_color = {\"Team A\": \"dark\", \"Team B\": \"white\", \"Team C\": \"colorful\"}[team_name]\n",
    "    email = get_email_address(player[\"email\"])\n",
    "    payment_text = _get_payment_text(player[\"has_paid_fee\"])\n",
    "    links = _load_links()\n",
    "    \n",
    "    player_obj = Player.from_series(player, hf.DATA_NOW.matches)\n",
    "    schedule = player_obj.get_schedule_for_mail().replace(f\", {email}\", \"\")\n",
    "    fpath = hf.DATAPATH.joinpath(f\"assets/animal_pics/full_size/{player[\"nickname\"].lower().replace(\" \", \"_\")}.png\")\n",
    "    text = email_base_text.format(first_name=first_name, nickname=nickname, schedule=schedule, team_name=team_name, cloth_color=cloth_color, signal_link=links[\"signal\"], payment_text=payment_text, datashare_link=links[\"datashare_view\"])\n",
    "    html_text = markdown.markdown(text.replace(\"\\\\\", \"<br>\"))\n",
    "    return email, html_text, fpath\n"
   ]
  },
  {
   "cell_type": "code",
   "execution_count": null,
   "metadata": {},
   "outputs": [
    {
     "name": "stdout",
     "output_type": "stream",
     "text": [
      "[sports_week: INFO] - Sending mail to Dirty Flounder...\n",
      "Dirty Flounder already in schedule.\n"
     ]
    },
    {
     "data": {
      "text/plain": [
       "True"
      ]
     },
     "execution_count": 62,
     "metadata": {},
     "output_type": "execute_result"
    }
   ],
   "source": [
    "\n",
    "player = \"Dirty Flounder\"\n",
    "# address, text, fpath = get_email_text_for_player(player)\n",
    "email, text, fpath = get_initial_schedule_text_for_player(df.loc[player])\n",
    "# print(email, \"\\n\", fpath.name, \"\\nSports week (Apr 29 - May 3): Your schedule and information\")\n",
    "# hf.copy_to_clipboard(text)\n",
    "write_email_to_player(player, email, text, \"[SPORTS WEEK]: Your Schedule (PLEASE CONFIRM)\", SENDER_MAIL, SENDER_PASSWORD, \"schedule\", fpath, force=False)\n",
    "# text\n"
   ]
  },
  {
   "cell_type": "code",
   "execution_count": 38,
   "metadata": {},
   "outputs": [
    {
     "name": "stdout",
     "output_type": "stream",
     "text": [
      "[sports_week: INFO] - Sending mail to Our Pheasant...\n"
     ]
    }
   ],
   "source": [
    "schedule_sent = get_sent_mails(\"schedule\")\n",
    "subdf = df[~df[\"nickname\"].apply(lambda x: x in schedule_sent)]\n",
    "for player, player_row in subdf.iterrows():\n",
    "    email, text, fpath = get_initial_schedule_text_for_player(player_row)\n",
    "    # print(email, \"\\n\", fpath.name, \"\\nSports week (Apr 29 - May 3): Your schedule and information\")\n",
    "    # hf.copy_to_clipboard(text)\n",
    "    write_email_to_player(player, email, text, \"[SPORTS WEEK]: Your Schedule (PLEASE CONFIRM)\", SENDER_MAIL, SENDER_PASSWORD, \"schedule\", fpath, force=False)\n"
   ]
  },
  {
   "cell_type": "code",
   "execution_count": 83,
   "metadata": {},
   "outputs": [],
   "source": [
    "\n",
    "\n",
    "def get_schedule_update_text_for_player(player: pd.Series) -> tuple[str, str]:\n",
    "    email_base_text = hf.DATAPATH.joinpath(\"helper_texts/email_2_schedule_update.md\").read_text(encoding=\"utf-8\")\n",
    "    first_name = player[\"name\"].split()[0]\n",
    "    nickname = player[\"nickname\"]\n",
    "    email = get_email_address(player[\"email\"])\n",
    "    \n",
    "    player_obj = Player.from_series(player, hf.DATA_NOW.matches)\n",
    "    schedule = player_obj.get_schedule_for_mail().replace(f\", {email}\", \"\")\n",
    "    text = email_base_text.format(first_name=first_name, nickname=nickname, schedule=schedule)\n",
    "    html_text = markdown.markdown(text.replace(\"\\\\\", \"<br>\"))\n",
    "    return email, html_text\n",
    "\n",
    "hf.DATA_NOW.reload()\n",
    "df = hf.DATA_NOW.players.set_index(\"nickname\", drop=False)\n",
    "df = df.join(HIDDEN_DF[[col for col in HIDDEN_DF.columns if not col in df.columns]], how=\"left\")\n",
    "# # Filter out any people that are not part of any sports whatsoever (usually shouldn't be the case)\n",
    "df = df[np.any([df[f\"subteam_{s}\"] != \"\" for s in hf.DATA_NOW.sport_events], axis=0)]\n",
    "\n",
    "# This one should be done on a case-by-case basis and be marked in the changelog\n",
    "player = \"Trivial Uguisu\"\n",
    "# address, text, fpath = get_email_text_for_player(player)\n",
    "email, text = get_schedule_update_text_for_player(df.loc[player])\n",
    "# print(text)\n",
    "# if write_email_to_player(player, email, text, \"[SPORTS WEEK]: Schedule Update\", SENDER_MAIL, SENDER_PASSWORD, \"schedule_update\", force=False):\n",
    "#     hf.write_changelog_entry(f\"Sent schedule update to {player}.\")\n"
   ]
  },
  {
   "cell_type": "code",
   "execution_count": 90,
   "metadata": {},
   "outputs": [
    {
     "name": "stdout",
     "output_type": "stream",
     "text": [
      "59 players to remind\n",
      "[sports_week: INFO] - Sending mail to Kooky Snake...\n",
      "[sports_week: INFO] - Sending mail to Far-flung Sloth...\n",
      "[sports_week: INFO] - Sending mail to Defiant Tortoise...\n",
      "[sports_week: INFO] - Sending mail to Virtuous Pika...\n",
      "[sports_week: INFO] - Sending mail to Scientific Angelfish...\n",
      "[sports_week: INFO] - Sending mail to Worthy Aurochs...\n",
      "[sports_week: INFO] - Sending mail to Anguished Dragonfly...\n",
      "[sports_week: INFO] - Sending mail to Reckless Swan...\n",
      "[sports_week: INFO] - Sending mail to Courageous Bullfrog...\n",
      "[sports_week: INFO] - Sending mail to Nervous Badger...\n",
      "[sports_week: INFO] - Sending mail to Nonstop Cuscus...\n",
      "[sports_week: INFO] - Sending mail to Gripping Penguin...\n",
      "[sports_week: INFO] - Sending mail to Upset Cheetah...\n",
      "[sports_week: INFO] - Sending mail to Realistic Coral...\n",
      "[sports_week: INFO] - Sending mail to Grimy Newfoundland...\n",
      "[sports_week: INFO] - Sending mail to Unfortunate Salamander...\n",
      "[sports_week: INFO] - Sending mail to Sane Wallaby...\n",
      "[sports_week: INFO] - Sending mail to Snappy Crab...\n",
      "[sports_week: INFO] - Sending mail to Flamboyant Lungfish...\n",
      "[sports_week: INFO] - Sending mail to Fast Havanese...\n",
      "[sports_week: INFO] - Sending mail to Impish Shrimp...\n",
      "[sports_week: INFO] - Sending mail to Possible Anchovies...\n",
      "[sports_week: INFO] - Sending mail to Illiterate Caterpillar...\n",
      "[sports_week: INFO] - Sending mail to Cute Frog...\n",
      "[sports_week: INFO] - Sending mail to Lean Siamese...\n",
      "[sports_week: INFO] - Sending mail to Decent Gopher...\n",
      "[sports_week: INFO] - Sending mail to Frosty Millipede...\n",
      "[sports_week: INFO] - Sending mail to Alarmed Bird...\n",
      "[sports_week: INFO] - Sending mail to Delayed Grouse...\n",
      "[sports_week: INFO] - Sending mail to Forthright Utonagan...\n",
      "[sports_week: INFO] - Sending mail to Memorable Squirrel...\n",
      "[sports_week: INFO] - Sending mail to Indolent Hoopoe...\n",
      "[sports_week: INFO] - Sending mail to Horrible Lobster...\n",
      "[sports_week: INFO] - Sending mail to Worthwhile Paddlefish...\n",
      "[sports_week: INFO] - Sending mail to Boring Mastiff...\n",
      "[sports_week: INFO] - Sending mail to Colossal Prawn...\n",
      "[sports_week: INFO] - Sending mail to Fearless Wrasse...\n",
      "[sports_week: INFO] - Sending mail to Electric Rat...\n",
      "[sports_week: INFO] - Sending mail to Motherly Woodpecker...\n",
      "[sports_week: INFO] - Sending mail to Silly Puffin...\n",
      "[sports_week: INFO] - Sending mail to Awkward Cichlid...\n",
      "[sports_week: INFO] - Sending mail to Milky Bongo...\n",
      "[sports_week: INFO] - Sending mail to Eager Affenpinscher...\n",
      "[sports_week: INFO] - Sending mail to Downright Lynx...\n",
      "[sports_week: INFO] - Sending mail to Frugal Blobfish...\n",
      "[sports_week: INFO] - Sending mail to Well-documented Dodo...\n",
      "[sports_week: INFO] - Sending mail to Direct Baboon...\n",
      "[sports_week: INFO] - Sending mail to Diligent Octopus...\n",
      "[sports_week: INFO] - Sending mail to Insistent Sponge...\n",
      "[sports_week: INFO] - Sending mail to Poor Hamster...\n",
      "[sports_week: INFO] - Sending mail to Brilliant Fox...\n",
      "[sports_week: INFO] - Sending mail to Pristine Chicken...\n",
      "[sports_week: INFO] - Sending mail to Crafty Pig...\n",
      "[sports_week: INFO] - Sending mail to Idealistic Megalodon...\n",
      "[sports_week: INFO] - Sending mail to Dirty Flounder...\n",
      "[sports_week: INFO] - Sending mail to Agonizing Kudu...\n",
      "[sports_week: INFO] - Sending mail to Ornate Cockatoo...\n",
      "[sports_week: INFO] - Sending mail to False Grasshopper...\n",
      "[sports_week: INFO] - Sending mail to Any Tuatara...\n"
     ]
    }
   ],
   "source": [
    "\n",
    "def get_reminder_email_text(player: pd.Series) -> tuple[str, str]:\n",
    "    email_base_text = hf.DATAPATH.joinpath(\"helper_texts/email_3_follow_up_text.md\").read_text(encoding=\"utf-8\")\n",
    "    first_name = player[\"name\"].split()[0]\n",
    "    nickname = player[\"nickname\"]\n",
    "    email = get_email_address(player[\"email\"])\n",
    "    links = _load_links()\n",
    "    \n",
    "    player_obj = Player.from_series(player, hf.DATA_NOW.matches)\n",
    "    schedule = player_obj.get_schedule_for_mail().replace(f\", {email}\", \"\")\n",
    "    text = email_base_text.format(first_name=first_name, nickname=nickname, schedule=schedule, signal_link=links[\"signal\"])\n",
    "    html_text = markdown.markdown(text.replace(\"\\\\\", \"<br>\"))\n",
    "    return email, html_text\n",
    "\n",
    "# print(get_reminder_email_text(df.loc[\"Pushy Bulldog\"])[1])\n",
    "reminder_sent = get_sent_mails(\"confirmation_reminder\")\n",
    "not_already_reminded = ~df[\"nickname\"].apply(lambda x: x in reminder_sent)\n",
    "no_confirmation = ~df[\"has_confirmed\"]\n",
    "no_dropout = ~df[\"is_full_dropout\"]\n",
    "not_late = ~df[\"late_entry\"]  # For now let's not remind them\n",
    "subdf = df[not_already_reminded & no_confirmation & no_dropout & not_late]\n",
    "print(len(subdf), \"players to remind\")\n",
    "for player, player_row in subdf.iterrows():\n",
    "    email, text = get_reminder_email_text(player_row)\n",
    "    write_email_to_player(player, email, text, \"[SPORTS WEEK]: Please confirm your participation\", SENDER_MAIL, SENDER_PASSWORD, \"confirmation_reminder\", force=False)\n",
    "    # print(player)\n"
   ]
  }
 ],
 "metadata": {
  "kernelspec": {
   "display_name": "3_12_streamlit",
   "language": "python",
   "name": "python3"
  },
  "language_info": {
   "codemirror_mode": {
    "name": "ipython",
    "version": 3
   },
   "file_extension": ".py",
   "mimetype": "text/x-python",
   "name": "python",
   "nbconvert_exporter": "python",
   "pygments_lexer": "ipython3",
   "version": "3.12.2"
  }
 },
 "nbformat": 4,
 "nbformat_minor": 2
}
