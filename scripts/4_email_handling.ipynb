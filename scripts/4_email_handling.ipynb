{
 "cells": [
  {
   "cell_type": "markdown",
   "metadata": {},
   "source": [
    "# Email-handling\n",
    "\n",
    "Send automated emails to the participants of the sports week."
   ]
  },
  {
   "cell_type": "code",
   "execution_count": null,
   "metadata": {},
   "outputs": [
    {
     "name": "stdout",
     "output_type": "stream",
     "text": [
      "[sports_week: INFO] - Starting the script\n"
     ]
    }
   ],
   "source": [
    "import helper_functions as hf\n",
    "from helper_functions.classes.player import Player\n",
    "from helper_functions.setup.email_handling import get_email_address\n",
    "import markdown\n",
    "from pathlib import Path\n",
    "import pandas as pd\n",
    "import smtplib, ssl\n",
    "from email.mime.text import MIMEText\n",
    "from email.mime.multipart import MIMEMultipart\n",
    "from email.mime.base import MIMEBase\n",
    "from bs4 import BeautifulSoup\n",
    "from email import encoders\n",
    "from typing import Callable, Literal\n",
    "import yaml\n",
    "\n",
    "hf.LOGGER.setLevel(\"INFO\")\n",
    "hf.LOGGER.info(\"Starting the script\")\n"
   ]
  },
  {
   "cell_type": "code",
   "execution_count": null,
   "metadata": {},
   "outputs": [],
   "source": [
    "FPATH_SENT_MAILS = hf.FpathRegistry.get_path_hidden().parent.joinpath(\"mails_sent.yml\")\n",
    "if not FPATH_SENT_MAILS.exists() or yaml.safe_load(FPATH_SENT_MAILS.read_text(encoding=\"utf-8\")) is None:\n",
    "    FPATH_SENT_MAILS.parent.mkdir(parents=True, exist_ok=True)\n",
    "    FPATH_SENT_MAILS.write_text(yaml.safe_dump({\"fee_reminder\": [], \"schedule\": [], \"confirmation_reminder\": []}), encoding=\"utf-8\")\n",
    "\n",
    "def get_sent_mails(key: Literal[\"fee_reminder\", \"schedule\", \"confirmation_reminder\"]) -> list[str]:\n",
    "    \"\"\"Load the sent mails from the YAML file.\"\"\"\n",
    "    return yaml.safe_load(FPATH_SENT_MAILS.read_text(encoding=\"utf-8\"))[key]\n",
    "\n",
    "def update_sent_mails(key: Literal[\"fee_reminder\", \"schedule\", \"confirmation_reminder\"], new_name: str):\n",
    "    \"\"\"Update the sent mails in the YAML file.\"\"\"\n",
    "    assert new_name in hf.DATA_NOW.nickname_to_name_df[\"nickname\"].tolist(), f\"{new_name} is not a valid nickname.\"\n",
    "    sent_mails = yaml.safe_load(FPATH_SENT_MAILS.read_text(encoding=\"utf-8\"))\n",
    "    if new_name in sent_mails[key]:\n",
    "        print(f\"{new_name} already in {key}.\")\n",
    "        return\n",
    "    sent_mails[key].append(new_name)\n",
    "    FPATH_SENT_MAILS.write_text(yaml.safe_dump(sent_mails), encoding=\"utf-8\")\n",
    "\n",
    "# update_sent_mails(\"fee_reminder\", \"Pushy Bulldog\")\n"
   ]
  },
  {
   "cell_type": "markdown",
   "metadata": {},
   "source": [
    "## Sending out the emails\n",
    "\n",
    "Following tutorial at https://realpython.com/python-send-email/ to send out mails programmatically."
   ]
  },
  {
   "cell_type": "code",
   "execution_count": 53,
   "metadata": {},
   "outputs": [],
   "source": [
    "\n",
    "def write_email_to_player(player_nick: str, \n",
    "                          player_email: str, \n",
    "                          email_text: str, \n",
    "                          email_subject: str,\n",
    "                          sender_email: str, \n",
    "                          password: str, \n",
    "                          yaml_key: Literal[\"fee_reminder\", \"schedule\", \"confirmation_reminder\"],\n",
    "                          im_path: Path | None = None,\n",
    "                          force=False):\n",
    "    if not force and player_nick in get_sent_mails(yaml_key):\n",
    "        hf.LOGGER.info(f\"Mail to {player_nick} already sent. Skipping.\")\n",
    "        return\n",
    "\n",
    "    html_text = markdown.markdown(email_text.replace(\"\\\\\", \"<br>\"))\n",
    "    soup = BeautifulSoup(html_text, 'html')\n",
    "    plain_text = soup.get_text()\n",
    "    # Turn these into plain/html MIMEText objects\n",
    "    message = MIMEMultipart(\"alternative\")\n",
    "    message[\"Subject\"] = email_subject\n",
    "    message[\"From\"] = sender_email\n",
    "    message[\"To\"] = player_email\n",
    "\n",
    "    part1 = MIMEText(plain_text, \"plain\")\n",
    "    part2 = MIMEText(html_text, \"html\")\n",
    "\n",
    "    if im_path is not None:\n",
    "        # Open png file in binary mode\n",
    "        with open(im_path, \"rb\") as attachment:\n",
    "            # Add file as application/octet-stream\n",
    "            # Email client can usually download this automatically as attachment\n",
    "            part3 = MIMEBase(\"application\", \"octet-stream\")\n",
    "            part3.set_payload(attachment.read())\n",
    "\n",
    "        # Encode file in ASCII characters to send by email    \n",
    "        encoders.encode_base64(part3)\n",
    "\n",
    "        # Add header as key/value pair to attachment part\n",
    "        part3.add_header(\n",
    "            \"Content-Disposition\",\n",
    "            f\"attachment; filename= {im_path.name}\",\n",
    "        )\n",
    "        message.attach(part3)\n",
    "\n",
    "    # Add HTML/plain-text parts to MIMEMultipart message\n",
    "    # The email client will try to render the last part first\n",
    "    message.attach(part1)\n",
    "    message.attach(part2)\n",
    "\n",
    "    # - Actually send the mail\n",
    "    hf.LOGGER.info(f\"Sending mail to {player_nick}...\")\n",
    "    port = 587\n",
    "    # Create secure connection with server and send email\n",
    "    context = ssl.create_default_context()\n",
    "    with smtplib.SMTP(\"ssmtp.mpe.mpg.de\", port) as server:\n",
    "        server.starttls(context=context) \n",
    "        server.login(\"fbalzer\", password)\n",
    "        server.sendmail(\n",
    "            sender_email, [player_email, sender_email], message.as_string()\n",
    "        )\n",
    "    update_sent_mails(yaml_key, player_nick)\n",
    "# for nickname in df.sort_values(\"response_timestamp\")[\"nickname\"]:\n",
    "#     write_email_to_player(df.loc[nickname], sender_email, password, force=False)\n",
    "\n"
   ]
  },
  {
   "cell_type": "code",
   "execution_count": 41,
   "metadata": {},
   "outputs": [],
   "source": [
    "# LOG IN\n",
    "\n",
    "SENDER_MAIL = \"@\".join([\"fbalzer\", \"mpe.mpg.de\"])  # slight protection against sp am\n",
    "SENDER_PASSWORD = input(\"Type your password and press enter:\")\n",
    "\n"
   ]
  },
  {
   "cell_type": "markdown",
   "metadata": {},
   "source": [
    "### Part 1: Reminder for fee payment"
   ]
  },
  {
   "cell_type": "code",
   "execution_count": 18,
   "metadata": {},
   "outputs": [
    {
     "data": {
      "text/plain": [
       "(185, 68)"
      ]
     },
     "execution_count": 18,
     "metadata": {},
     "output_type": "execute_result"
    }
   ],
   "source": [
    "hidden_df = hf.FpathRegistry.get_hidden_responses()\n",
    "unpaid = hidden_df[~hidden_df[\"has_paid_fee\"]]\n",
    "len(hidden_df), len(unpaid)\n"
   ]
  },
  {
   "cell_type": "code",
   "execution_count": 43,
   "metadata": {},
   "outputs": [],
   "source": [
    "def get_reminder_text(player: pd.Series) -> tuple[str, str]:\n",
    "    base_text = hf.DATAPATH.joinpath(\"helper_texts/email_1_reminder_text.md\").read_text(encoding=\"utf-8\")\n",
    "    first_name, nickname = player[\"name\"].split()[0],  player[\"nickname\"]\n",
    "    text = base_text.format(first_name=first_name, nickname=nickname)\n",
    "    email = player[\"email\"]\n",
    "    html_text = markdown.markdown(text.replace(\"\\\\\", \"<br>\"))\n",
    "    return email, html_text\n",
    "\n"
   ]
  },
  {
   "cell_type": "code",
   "execution_count": 55,
   "metadata": {},
   "outputs": [
    {
     "name": "stdout",
     "output_type": "stream",
     "text": [
      "[sports_week: INFO] - Sending mail to Pushy Bulldog...\n"
     ]
    }
   ],
   "source": [
    "player = hidden_df.iloc[2]\n",
    "player_email, email_text = get_reminder_text(player)\n",
    "SUBJECT = \"[SPORTS WEEK]: Fee Reminder\"\n",
    "write_email_to_player(player[\"nickname\"], player_email, email_text, SUBJECT, SENDER_MAIL, SENDER_PASSWORD, \"fee_reminder\", force=False)\n"
   ]
  },
  {
   "cell_type": "code",
   "execution_count": null,
   "metadata": {},
   "outputs": [],
   "source": [
    "\n",
    "\n",
    "for _, player in unpaid.iterrows():\n",
    "    write_email_to_player(player, SENDER_MAIL, SENDER_PASSWORD, [], get_reminder_text, force=False)\n"
   ]
  },
  {
   "cell_type": "code",
   "execution_count": null,
   "metadata": {},
   "outputs": [],
   "source": [
    "\n",
    "\n",
    "df = hf.get_players().set_index(\"nickname\", drop=False).fillna(\"\")\n",
    "df.head()\n",
    "\n",
    "df = df.join(hidden_df[[col for col in hidden_df.columns if not col in df.columns]], how=\"left\")\n",
    "\n",
    "addresses = []\n",
    "df = df.fillna(\"\")\n",
    "for _, player in df.iterrows():\n",
    "    if any([player[f\"subteam_{sport}\"] != \"\" for sport in hf.SPORTS_LIST]):\n",
    "        addresses.append(get_email_address(player[\"email\"]))\n",
    "\n",
    "hf.copy_to_clipboard(\"; \".join(addresses))\n",
    "# df.loc[\"Unimportant Beetle\"]\n"
   ]
  },
  {
   "cell_type": "code",
   "execution_count": 2,
   "metadata": {},
   "outputs": [],
   "source": [
    "\n",
    "def get_email_text_for_player(player: pd.Series) -> tuple[str, str, Path]:\n",
    "    email_base_text = hf.DATAPATH.joinpath(\"helper_texts/email_blank_text.md\").read_text(encoding=\"utf-8\")\n",
    "    first_name = player[\"name\"].split()[0]\n",
    "    nickname = player[\"nickname\"]\n",
    "    team_name = player[\"Team\"]\n",
    "    cloth_color = {\"Team A\": \"dark\", \"Team B\": \"white\", \"Team C\": \"colorful\"}[team_name]\n",
    "    email = get_email_address(player[\"email\"])\n",
    "    signal_link = hf.DATAPATH.joinpath(\"hidden/signal_entry_link.txt\").read_text(encoding=\"utf-8\")\n",
    "    \n",
    "    player_obj = Player.from_series(player, list(hf.ALL_MATCHES))\n",
    "    schedule = player_obj.get_schedule_for_mail()\n",
    "    fpath = hf.DATAPATH.joinpath(f\"assets/animal_pics/full_size/{player[\"nickname\"].lower().replace(\" \", \"_\")}.png\")\n",
    "    text = email_base_text.format(first_name=first_name, nickname=nickname, schedule=schedule, team_name=team_name, cloth_color=cloth_color, signal_link=signal_link)\n",
    "    html_text = markdown.markdown(text.replace(\"\\\\\", \"<br>\"))\n",
    "    return email, html_text, fpath\n",
    "\n",
    "# player = df.loc[\"Thankful Kakapo\"]\n",
    "# address, text, fpath = get_email_text_for_player(player)\n",
    "email, text, fpath = get_email_text_for_player(df.loc[\"Elastic Pekingese\"])\n",
    "# print(email, \"\\n\", fpath.name, \"\\nSports week (Apr 29 - May 3): Your schedule and information\")\n",
    "hf.copy_to_clipboard(text)\n"
   ]
  }
 ],
 "metadata": {
  "kernelspec": {
   "display_name": "3_12_streamlit",
   "language": "python",
   "name": "python3"
  },
  "language_info": {
   "codemirror_mode": {
    "name": "ipython",
    "version": 3
   },
   "file_extension": ".py",
   "mimetype": "text/x-python",
   "name": "python",
   "nbconvert_exporter": "python",
   "pygments_lexer": "ipython3",
   "version": "3.12.2"
  }
 },
 "nbformat": 4,
 "nbformat_minor": 2
}
