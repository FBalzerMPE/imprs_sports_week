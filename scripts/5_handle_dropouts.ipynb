{
 "cells": [
  {
   "cell_type": "markdown",
   "id": "31757b8e",
   "metadata": {},
   "source": [
    "# Dropout and late sign-up handling"
   ]
  },
  {
   "cell_type": "code",
   "execution_count": null,
   "id": "5aaaf9eb",
   "metadata": {},
   "outputs": [],
   "source": [
    "import helper_functions as hf\n",
    "from helper_functions import setup\n",
    "from helper_functions.setup.openai_image_download import generate_all_images, save_resized_animal_images\n",
    "import pandas as pd\n",
    "hf.LOGGER.setLevel(\"INFO\")\n"
   ]
  },
  {
   "cell_type": "code",
   "execution_count": 4,
   "id": "dad5d603",
   "metadata": {},
   "outputs": [
    {
     "name": "stdout",
     "output_type": "stream",
     "text": [
      "[sports_week: WARNING] - Could not find the following people that payment was received from. Please check their names:\n",
      "\t['NaCu']\n",
      "[sports_week: WARNING] - Found 4 people who managed to sign up multiple times. Keeping only  their latest entries.\n"
     ]
    }
   ],
   "source": [
    "df = setup.sanitize_and_anonymize_data(overwrite=True, anonymize=True)\n",
    "hf.DATA_NOW.reload()\n"
   ]
  },
  {
   "cell_type": "code",
   "execution_count": 5,
   "id": "fe386237",
   "metadata": {},
   "outputs": [
    {
     "name": "stdout",
     "output_type": "stream",
     "text": [
      "Unwilling Starfish (Team A) needs to be replaced for beer_pong\n",
      "Wealthy Armadillo (Team A) needs to be replaced for badminton\n",
      "Neglected Harrier (Team B) needs to be replaced for running_sprints\n",
      "Neglected Harrier (Team B) needs to be replaced for football\n",
      "Neglected Harrier (Team B) needs to be replaced for capture_the_flag\n",
      "Neglected Harrier (Team B) needs to be replaced for beer_pong\n",
      "Unsteady Aardvark (Team B) needs to be replaced for tennis\n",
      "Animated Yak (Team B) needs to be replaced for volleyball\n",
      "Animated Yak (Team B) needs to be replaced for tennis\n",
      "Animated Yak (Team B) needs to be replaced for ping_pong\n",
      "Animated Yak (Team B) needs to be replaced for spikeball\n",
      "Animated Yak (Team B) needs to be replaced for beer_pong\n",
      "Affectionate Chihuahua (Team B) needs to be replaced for basketball\n",
      "Ignorant Lemur (Team B) needs to be replaced for spikeball\n",
      "Enormous Uakari (Team C) needs to be replaced for capture_the_flag\n",
      "Enormous Uakari (Team C) needs to be replaced for beer_pong\n",
      "Arctic Milkfish (Team C) needs to be replaced for tennis\n",
      "Prize Jerboa (Team C) needs to be replaced for ping_pong\n",
      "Prize Jerboa (Team C) needs to be replaced for badminton\n"
     ]
    }
   ],
   "source": [
    "dropout_list = []\n",
    "# Calculate who's dropping out for what:\n",
    "for _, row in hf.DATA_NOW.players.iterrows():\n",
    "    if row[\"num_dropout_sports\"] == 0:\n",
    "        continue\n",
    "    sports = []\n",
    "    for sport in row[\"dropout_sports\"]:\n",
    "        if row[f\"subteam_{sport}\"] not in [\"R\", \"\"]:\n",
    "            msg = f\"{row['nickname']} ({row['Team']}) needs to be replaced for {sport}\"\n",
    "            sports.append(sport)\n",
    "            print(msg)\n",
    "            dropout_list.append( {\n",
    "                \"nickname\": row[\"nickname\"],\n",
    "                \"team\": row[\"Team\"],\n",
    "                \"sports\": sports,\n",
    "            })\n"
   ]
  },
  {
   "cell_type": "code",
   "execution_count": 12,
   "id": "aa6cd0a6",
   "metadata": {},
   "outputs": [
    {
     "name": "stdout",
     "output_type": "stream",
     "text": [
      "Found 6 late signups.\n",
      "Of these, 1 are not appointed to teams.\n",
      "Our Pheasant is available for ['chess']\n"
     ]
    }
   ],
   "source": [
    "# Calculate whom of the new players would be available for what:\n",
    "late = df[df[\"late_entry\"]]\n",
    "hf.DATA_NOW.reload()\n",
    "print(f\"Found {len(late)} late signups.\")\n",
    "no_team = late[~late[\"nickname\"].isin(hf.DATA_NOW.players[\"nickname\"].tolist())]\n",
    "print(f\"Of these, {len(no_team)} are not appointed to teams.\")\n",
    "for _, row in no_team.iterrows():\n",
    "    avail_sports = [sport for sport in hf.DATA_NOW.sport_events if row[sport]]\n",
    "    print(f\"{row['nickname']} is available for {avail_sports}\")\n"
   ]
  },
  {
   "cell_type": "code",
   "execution_count": 9,
   "id": "4b9697c4",
   "metadata": {},
   "outputs": [],
   "source": [
    "# From the above, we can devise the following additions to teams:\n",
    "teams_to_join = {\n",
    "    \"Velvety Seahorse\": \"B\",\n",
    "    \"Tired Numbat\": \"B\",\n",
    "    \"Bogus Wasp\": \"B\",\n",
    "    \"Thorny Warthog\": \"A\",\n",
    "    \"Well-to-do Moth\": \"A\",\n",
    "}\n"
   ]
  },
  {
   "cell_type": "code",
   "execution_count": 10,
   "id": "11e9b9d5",
   "metadata": {},
   "outputs": [
    {
     "name": "stdout",
     "output_type": "stream",
     "text": [
      "Well-to-do Moth joins Team A\n",
      "Image for Well-to-do Moth already exists, skipping.\n"
     ]
    }
   ],
   "source": [
    "hf.DATA_NOW.reload()\n",
    "for _, player in late.iterrows():\n",
    "    name = player[\"nickname\"]\n",
    "    # Don't do anything if the player has already been added\n",
    "    if any([team.contains_player(name) for team in hf.DATA_NOW.teams]):\n",
    "        continue\n",
    "    if name in teams_to_join:\n",
    "        # team_to_join = teams[find_best_team_to_join(teams, player)]\n",
    "        team_to_join = hf.DATA_NOW.get_team(teams_to_join[name])\n",
    "        team_to_join.add_player(player, register_as_reserve=True)\n",
    "        print(f\"{name} joins {team_to_join.name}\")\n",
    "        generate_all_images([name])\n",
    "# save_resized_animal_images(200)\n"
   ]
  },
  {
   "cell_type": "code",
   "execution_count": 13,
   "id": "2d8e4458",
   "metadata": {},
   "outputs": [
    {
     "name": "stdout",
     "output_type": "stream",
     "text": [
      "For beer_pong in Team A, the following reserves to switch with Unwilling Starfish are available: ['Spicy Jaguar', 'Well-to-do Moth']\n"
     ]
    }
   ],
   "source": [
    "# Now that players have been added to teams, we can start replacing dropouts in their subteams:\n",
    "dropout_list\n",
    "\n",
    "entry = dropout_list[0]\n",
    "team = hf.DATA_NOW.get_team(entry[\"team\"])\n",
    "team_players = team.player_df\n",
    "for sport in entry[\"sports\"]:\n",
    "    reserves = team_players[team_players[f\"subteam_{sport}\"] == \"R\"]\n",
    "    if len(reserves) == 0:\n",
    "        print(f\"Currently no reserves available for {sport} in {team.name}\")\n",
    "        continue\n",
    "    print(f\"For {sport} in {team.name}, the following reserves to switch with {entry[\"nickname\"]} are available: {reserves[\"nickname\"].tolist()}\")\n"
   ]
  },
  {
   "cell_type": "code",
   "execution_count": null,
   "id": "bbe1a9c7",
   "metadata": {},
   "outputs": [],
   "source": [
    "hf.DATA_NOW.get_team(\"A\").change_player_subteam(\"Well-to-do Moth\", \"beer_pong\", player_to_replace_name=\"Unwilling Starfish\")\n",
    "hf.DATA_NOW.reload()\n"
   ]
  },
  {
   "cell_type": "code",
   "execution_count": null,
   "id": "cc6ba3a2",
   "metadata": {},
   "outputs": [
    {
     "data": {
      "text/html": [
       "<div>\n",
       "<style scoped>\n",
       "    .dataframe tbody tr th:only-of-type {\n",
       "        vertical-align: middle;\n",
       "    }\n",
       "\n",
       "    .dataframe tbody tr th {\n",
       "        vertical-align: top;\n",
       "    }\n",
       "\n",
       "    .dataframe thead th {\n",
       "        text-align: right;\n",
       "    }\n",
       "</style>\n",
       "<table border=\"1\" class=\"dataframe\">\n",
       "  <thead>\n",
       "    <tr style=\"text-align: right;\">\n",
       "      <th></th>\n",
       "      <th>nickname</th>\n",
       "      <th>subteam_beer_pong</th>\n",
       "    </tr>\n",
       "  </thead>\n",
       "  <tbody>\n",
       "    <tr>\n",
       "      <th>0</th>\n",
       "      <td>Stark Otter</td>\n",
       "      <td>6</td>\n",
       "    </tr>\n",
       "    <tr>\n",
       "      <th>1</th>\n",
       "      <td>Dishonest Fangtooth</td>\n",
       "      <td></td>\n",
       "    </tr>\n",
       "    <tr>\n",
       "      <th>2</th>\n",
       "      <td>Striped Himalayan</td>\n",
       "      <td>3</td>\n",
       "    </tr>\n",
       "    <tr>\n",
       "      <th>3</th>\n",
       "      <td>Kooky Snake</td>\n",
       "      <td>6</td>\n",
       "    </tr>\n",
       "    <tr>\n",
       "      <th>4</th>\n",
       "      <td>Far-flung Sloth</td>\n",
       "      <td>1</td>\n",
       "    </tr>\n",
       "    <tr>\n",
       "      <th>...</th>\n",
       "      <td>...</td>\n",
       "      <td>...</td>\n",
       "    </tr>\n",
       "    <tr>\n",
       "      <th>58</th>\n",
       "      <td>Grimy Newfoundland</td>\n",
       "      <td></td>\n",
       "    </tr>\n",
       "    <tr>\n",
       "      <th>59</th>\n",
       "      <td>Front Labradoodle</td>\n",
       "      <td>5</td>\n",
       "    </tr>\n",
       "    <tr>\n",
       "      <th>60</th>\n",
       "      <td>Unfortunate Salamander</td>\n",
       "      <td></td>\n",
       "    </tr>\n",
       "    <tr>\n",
       "      <th>61</th>\n",
       "      <td>Sane Wallaby</td>\n",
       "      <td>1</td>\n",
       "    </tr>\n",
       "    <tr>\n",
       "      <th>62</th>\n",
       "      <td>Thorny Warthog</td>\n",
       "      <td></td>\n",
       "    </tr>\n",
       "  </tbody>\n",
       "</table>\n",
       "<p>63 rows × 2 columns</p>\n",
       "</div>"
      ],
      "text/plain": [
       "                  nickname subteam_beer_pong\n",
       "0              Stark Otter                 6\n",
       "1      Dishonest Fangtooth                  \n",
       "2        Striped Himalayan                 3\n",
       "3              Kooky Snake                 6\n",
       "4          Far-flung Sloth                 1\n",
       "..                     ...               ...\n",
       "58      Grimy Newfoundland                  \n",
       "59       Front Labradoodle                 5\n",
       "60  Unfortunate Salamander                  \n",
       "61            Sane Wallaby                 1\n",
       "62          Thorny Warthog                  \n",
       "\n",
       "[63 rows x 2 columns]"
      ]
     },
     "execution_count": 70,
     "metadata": {},
     "output_type": "execute_result"
    }
   ],
   "source": [
    "hf.DATA_NOW.get_team(\"A\").player_df[[\"nickname\", \"subteam_beer_pong\"]]\n"
   ]
  }
 ],
 "metadata": {
  "kernelspec": {
   "display_name": "3_12_streamlit",
   "language": "python",
   "name": "python3"
  },
  "language_info": {
   "codemirror_mode": {
    "name": "ipython",
    "version": 3
   },
   "file_extension": ".py",
   "mimetype": "text/x-python",
   "name": "python",
   "nbconvert_exporter": "python",
   "pygments_lexer": "ipython3",
   "version": "3.12.2"
  }
 },
 "nbformat": 4,
 "nbformat_minor": 5
}
