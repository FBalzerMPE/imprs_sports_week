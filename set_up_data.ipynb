{
 "cells": [
  {
   "cell_type": "markdown",
   "metadata": {},
   "source": [
    "# Data setup\n",
    "\n",
    "In this notebook, we run all of the functions necessary for setting up the data that is later displayed on the website.\n"
   ]
  },
  {
   "cell_type": "code",
   "execution_count": 36,
   "metadata": {},
   "outputs": [],
   "source": [
    "from helper_functions import setup\n",
    "from helper_functions import SPORTS_EVENTS, Subteam\n",
    "import numpy as np\n"
   ]
  },
  {
   "cell_type": "markdown",
   "metadata": {},
   "source": [
    "## Sanitize player data\n",
    "\n",
    "First, we simply load the responses and anonymize them."
   ]
  },
  {
   "cell_type": "code",
   "execution_count": 34,
   "metadata": {},
   "outputs": [
    {
     "name": "stdout",
     "output_type": "stream",
     "text": [
      "90 entries, of which 70 are PhDs and 20 are postdocs\n"
     ]
    }
   ],
   "source": [
    "df = setup.sanitize_and_anonymize_data(overwrite=True, verbose=False, anonymize=False)\n",
    "\n",
    "print(f\"{len(df)} entries, of which {np.sum(~df.is_postdoc)} are PhDs and {np.sum(df.is_postdoc)} are postdocs\")\n",
    "\n",
    "# Conflicting sports\n",
    "# np.sum(df[\"volleyball\"] & df[\"basketball\"])\n",
    "# np.sum(df[\"football\"] & df[\"tennis\"])\n",
    "# df[df[\"capture_the_flag\"] & df[\"spikeball\"]][\"nickname\"].tolist()\n",
    "endings = [email.split(\"@\")[1] if email != \"???\" else email for email in df[\"email\"]]\n",
    "len([end for end in endings if end == \"???\"])\n",
    "# df[df[\"nickname\"] == \"Magnificent Barracuda\"]\n",
    "df[\"nickname\"].to_csv(\"animal_names.csv\", index=False)\n"
   ]
  },
  {
   "cell_type": "code",
   "execution_count": 39,
   "metadata": {},
   "outputs": [],
   "source": [
    "from helper_functions.setup.openai_image_download import generate_all_images, save_resized_animal_images\n",
    "animals = [animal.lower() for animal in df[\"nickname\"]]\n",
    "# The following operation uses up openai credits.\n",
    "generate_all_images([])\n",
    "save_resized_animal_images(150)\n"
   ]
  },
  {
   "cell_type": "markdown",
   "metadata": {},
   "source": [
    "## Team generation\n",
    "\n",
    "Since we now have all the player data including the sports where they're available, we can generate the teams based on this information.\n",
    "\n",
    "We want to keep them balanced with regards to all sports; This  is handled in the `create_teams` routine."
   ]
  },
  {
   "cell_type": "code",
   "execution_count": 41,
   "metadata": {},
   "outputs": [
    {
     "data": {
      "text/html": [
       "<div>\n",
       "<style scoped>\n",
       "    .dataframe tbody tr th:only-of-type {\n",
       "        vertical-align: middle;\n",
       "    }\n",
       "\n",
       "    .dataframe tbody tr th {\n",
       "        vertical-align: top;\n",
       "    }\n",
       "\n",
       "    .dataframe thead th {\n",
       "        text-align: right;\n",
       "    }\n",
       "</style>\n",
       "<table border=\"1\" class=\"dataframe\">\n",
       "  <thead>\n",
       "    <tr style=\"text-align: right;\">\n",
       "      <th></th>\n",
       "      <th>nickname</th>\n",
       "      <th>institute</th>\n",
       "      <th>is_postdoc</th>\n",
       "      <th>avail_monday</th>\n",
       "      <th>avail_tuesday</th>\n",
       "      <th>avail_thursday</th>\n",
       "      <th>avail_friday</th>\n",
       "      <th>wants_basketball</th>\n",
       "      <th>basketball</th>\n",
       "      <th>wants_running_sprints</th>\n",
       "      <th>...</th>\n",
       "      <th>spikeball</th>\n",
       "      <th>wants_beer_pong</th>\n",
       "      <th>beer_pong</th>\n",
       "      <th>wants_fooseball</th>\n",
       "      <th>fooseball</th>\n",
       "      <th>wants_ping_pong</th>\n",
       "      <th>ping_pong</th>\n",
       "      <th>num_sports</th>\n",
       "      <th>num_sports_not_avail</th>\n",
       "      <th>late_entry</th>\n",
       "    </tr>\n",
       "  </thead>\n",
       "  <tbody>\n",
       "    <tr>\n",
       "      <th>3</th>\n",
       "      <td>Magnificent Barracuda</td>\n",
       "      <td>MPE</td>\n",
       "      <td>False</td>\n",
       "      <td>True</td>\n",
       "      <td>True</td>\n",
       "      <td>True</td>\n",
       "      <td>True</td>\n",
       "      <td>False</td>\n",
       "      <td>False</td>\n",
       "      <td>True</td>\n",
       "      <td>...</td>\n",
       "      <td>True</td>\n",
       "      <td>True</td>\n",
       "      <td>True</td>\n",
       "      <td>True</td>\n",
       "      <td>True</td>\n",
       "      <td>True</td>\n",
       "      <td>True</td>\n",
       "      <td>9</td>\n",
       "      <td>0</td>\n",
       "      <td>False</td>\n",
       "    </tr>\n",
       "    <tr>\n",
       "      <th>21</th>\n",
       "      <td>Animated Yak</td>\n",
       "      <td>MPE</td>\n",
       "      <td>False</td>\n",
       "      <td>True</td>\n",
       "      <td>True</td>\n",
       "      <td>True</td>\n",
       "      <td>True</td>\n",
       "      <td>False</td>\n",
       "      <td>False</td>\n",
       "      <td>False</td>\n",
       "      <td>...</td>\n",
       "      <td>True</td>\n",
       "      <td>True</td>\n",
       "      <td>True</td>\n",
       "      <td>True</td>\n",
       "      <td>True</td>\n",
       "      <td>True</td>\n",
       "      <td>True</td>\n",
       "      <td>8</td>\n",
       "      <td>0</td>\n",
       "      <td>False</td>\n",
       "    </tr>\n",
       "    <tr>\n",
       "      <th>60</th>\n",
       "      <td>Failing Muskrat</td>\n",
       "      <td>IPP</td>\n",
       "      <td>False</td>\n",
       "      <td>True</td>\n",
       "      <td>True</td>\n",
       "      <td>True</td>\n",
       "      <td>True</td>\n",
       "      <td>True</td>\n",
       "      <td>True</td>\n",
       "      <td>False</td>\n",
       "      <td>...</td>\n",
       "      <td>False</td>\n",
       "      <td>False</td>\n",
       "      <td>False</td>\n",
       "      <td>False</td>\n",
       "      <td>False</td>\n",
       "      <td>True</td>\n",
       "      <td>True</td>\n",
       "      <td>6</td>\n",
       "      <td>0</td>\n",
       "      <td>False</td>\n",
       "    </tr>\n",
       "  </tbody>\n",
       "</table>\n",
       "<p>3 rows × 32 columns</p>\n",
       "</div>"
      ],
      "text/plain": [
       "                 nickname institute  is_postdoc  avail_monday  avail_tuesday  \\\n",
       "3   Magnificent Barracuda       MPE       False          True           True   \n",
       "21           Animated Yak       MPE       False          True           True   \n",
       "60        Failing Muskrat       IPP       False          True           True   \n",
       "\n",
       "    avail_thursday  avail_friday  wants_basketball  basketball  \\\n",
       "3             True          True             False       False   \n",
       "21            True          True             False       False   \n",
       "60            True          True              True        True   \n",
       "\n",
       "    wants_running_sprints  ...  spikeball  wants_beer_pong  beer_pong  \\\n",
       "3                    True  ...       True             True       True   \n",
       "21                  False  ...       True             True       True   \n",
       "60                  False  ...      False            False      False   \n",
       "\n",
       "    wants_fooseball  fooseball  wants_ping_pong  ping_pong  num_sports  \\\n",
       "3              True       True             True       True           9   \n",
       "21             True       True             True       True           8   \n",
       "60            False      False             True       True           6   \n",
       "\n",
       "    num_sports_not_avail  late_entry  \n",
       "3                      0       False  \n",
       "21                     0       False  \n",
       "60                     0       False  \n",
       "\n",
       "[3 rows x 32 columns]"
      ]
     },
     "execution_count": 41,
     "metadata": {},
     "output_type": "execute_result"
    }
   ],
   "source": [
    "teams = setup.create_teams()\n",
    "teams[0].player_df.head(3)\n"
   ]
  },
  {
   "cell_type": "markdown",
   "metadata": {},
   "source": [
    "## Subteam generation\n",
    "\n",
    "Now we're getting to the spicy stuff!\n",
    "\n",
    "We can generate the subteams for each main team, but there's a few caveats:\n",
    "\n",
    "- Some of the sports are going to happen simultaneously, which is accounted for by the SportEvent class keeping book about that, and weights that are assigned while subteams are drawn.\n",
    "- Some players have only chosen one sport. To make sure they can attend that, we are also adjusting their weights while being drawn.\n",
    "- Some of the sports do not have traditional subteam generation, which we need to account for."
   ]
  },
  {
   "cell_type": "markdown",
   "metadata": {},
   "source": [
    "### Generate the subteams for each sport\n",
    "\n",
    "For running/sprints, everyone is on their own, and we have different events.\\\n",
    "As a first iteration, we just group everyone to be in their own subteam.\\\n",
    "Conveniently, all reserve players are also taking part in the other concurrent events.\n",
    "\n",
    "Same with chess."
   ]
  },
  {
   "cell_type": "code",
   "execution_count": 45,
   "metadata": {},
   "outputs": [
    {
     "name": "stdout",
     "output_type": "stream",
     "text": [
      "----------------------------------------\n",
      " volleyball basketball\n",
      "WARN: The following players are still set as reserve for both sports: {'Excited Rabbit'}\n",
      "----------------------------------------\n",
      " football tennis\n",
      "WARN: No solution found for Magnificent Barracuda, they are currently double-booked.\n",
      "----------------------------------------\n",
      " capture_the_flag spikeball\n",
      "capture_the_flag: Switched out Animated Yak with Nutty Sheep from A_1 to A_R\n",
      "capture_the_flag: Switched out Magnificent Barracuda with Failing Muskrat from A_1 to A_R\n",
      "capture_the_flag: Switched out Kindly Clownfish with Frightening Avocet from A_1 to A_R\n",
      "WARN: No solution found for Nice Albatross, they are currently double-booked.\n",
      "----------------------------------------\n",
      " volleyball basketball\n",
      "WARN: The following players are still set as reserve for both sports: {'Trivial Uguisu'}\n",
      "----------------------------------------\n",
      " football tennis\n",
      "----------------------------------------\n",
      " capture_the_flag spikeball\n",
      "capture_the_flag: Switched out Grouchy Mole with Gargantuan Okapi from B_1 to B_R\n",
      "WARN: No solution found for Motherly Woodpecker, they are currently double-booked.\n",
      "WARN: No solution found for Graceful Llama, they are currently double-booked.\n",
      "WARN: No solution found for Ideal Vaquita, they are currently double-booked.\n",
      "----------------------------------------\n",
      " volleyball basketball\n",
      "----------------------------------------\n",
      " football tennis\n",
      "WARN: The following players are still set as reserve for both sports: {'Neglected Harrier'}\n",
      "----------------------------------------\n",
      " capture_the_flag spikeball\n",
      "capture_the_flag: Switched out Rewarding Ermine with Unwritten Saiga from C_1 to C_R\n",
      "WARN: No solution found for Thankful Kakapo, they are currently double-booked.\n",
      "WARN: No solution found for Damaged Fly, they are currently double-booked.\n"
     ]
    }
   ],
   "source": [
    "from helper_functions.setup import generate_all_subteams \n",
    "\n",
    "for team in teams:\n",
    "    all_subteams = generate_all_subteams(team)\n",
    "    team.add_subteam_keys(all_subteams)\n",
    "    team.create_backup()\n"
   ]
  }
 ],
 "metadata": {
  "kernelspec": {
   "display_name": "3_12_streamlit",
   "language": "python",
   "name": "python3"
  },
  "language_info": {
   "codemirror_mode": {
    "name": "ipython",
    "version": 3
   },
   "file_extension": ".py",
   "mimetype": "text/x-python",
   "name": "python",
   "nbconvert_exporter": "python",
   "pygments_lexer": "ipython3",
   "version": "3.12.2"
  }
 },
 "nbformat": 4,
 "nbformat_minor": 2
}
