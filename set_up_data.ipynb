{
 "cells": [
  {
   "cell_type": "markdown",
   "metadata": {},
   "source": [
    "# Data setup\n",
    "\n",
    "In this notebook, we run all of the functions necessary for setting up the data that is later displayed on the website.\n"
   ]
  },
  {
   "cell_type": "code",
   "execution_count": 1,
   "metadata": {},
   "outputs": [],
   "source": [
    "from helper_functions import setup\n",
    "import numpy as np\n",
    "import matplotlib.pyplot as plt\n",
    "import helper_functions as hf\n",
    "from helper_functions.classes.sport_event import SportEvent\n",
    "from helper_functions.setup.match_scheduling import determine_rotated_matchups_for_sport, write_match_backup\n",
    "from helper_functions.classes.match import Match\n",
    "from helper_functions.classes.player import Player\n",
    "from itertools import combinations\n",
    "import pandas as pd\n",
    "from itertools import combinations\n",
    "from datetime import datetime, timedelta, time, date\n",
    "# hf.SPORTS_EVENTS[\"volleyball\"].subteams\n"
   ]
  },
  {
   "cell_type": "markdown",
   "metadata": {},
   "source": [
    "## Sanitize player data\n",
    "\n",
    "First, we simply load the responses and anonymize them."
   ]
  },
  {
   "cell_type": "code",
   "execution_count": null,
   "metadata": {},
   "outputs": [],
   "source": [
    "df = setup.sanitize_and_anonymize_data(overwrite=True, verbose=False, anonymize=False)\n",
    "\n",
    "print(f\"{len(df)} entries, of which {np.sum(~df.is_postdoc)} are PhDs and {np.sum(df.is_postdoc)} are postdocs\")\n",
    "\n",
    "endings = [email.split(\"@\")[1] if email != \"???\" else email for email in df[\"email\"]]\n",
    "print(len([end for end in endings if end == \"???\"]), \"unknown email-addresses.\")\n",
    "# df.sort_values(\"num_sports\", ascending=False)[[\"name\", \"num_sports\"]].head(3)\n",
    "\n"
   ]
  },
  {
   "cell_type": "code",
   "execution_count": null,
   "metadata": {},
   "outputs": [],
   "source": [
    "# from helper_functions.setup.openai_image_download import generate_all_images, save_resized_animal_images\n",
    "# animals = [animal.lower() for animal in df[\"nickname\"]]\n",
    "# # The following operation uses up openai credits.\n",
    "# generate_all_images([])\n",
    "# save_resized_animal_images(150)\n",
    "# animals[-3:]\n"
   ]
  },
  {
   "cell_type": "markdown",
   "metadata": {},
   "source": [
    "## Team generation\n",
    "\n",
    "Since we now have all the player data including the sports where they're available, we can generate the teams based on this information.\n",
    "\n",
    "We want to keep them balanced with regards to all sports; This  is handled in the `create_teams` routine."
   ]
  },
  {
   "cell_type": "code",
   "execution_count": null,
   "metadata": {},
   "outputs": [],
   "source": [
    "teams = setup.create_teams()\n",
    "teams[0].player_df.head(3)\n",
    "fig, ax = plt.subplots()\n",
    "for team in hf.ALL_TEAMS:\n",
    "    team.plot_sports_num()\n",
    "ax.set_title(\"Number of players per team\")\n",
    "ax.legend();\n",
    "# import pandas as pd\n",
    "# players = pd.concat([team.player_df for team in hf.ALL_TEAMS])\n",
    "# players = teams[1].player_df\n",
    "# players[players[\"beer_pong\"] & (players[\"num_sports\"] < 4)][[\"nickname\", \"num_sports\"] + hf.SPORTS_LIST].style.highlight_max()\n"
   ]
  },
  {
   "cell_type": "code",
   "execution_count": null,
   "metadata": {},
   "outputs": [],
   "source": [
    "# from helper_functions.setup.openai_image_download import generate_all_images, save_resized_animal_images\n",
    "# animals = [animal.lower() for animal in df[\"nickname\"]]\n",
    "# # The following operation uses up openai credits.\n",
    "# generate_all_images([])\n",
    "# save_resized_animal_images(150)\n",
    "# animals[-3:]\n"
   ]
  },
  {
   "cell_type": "markdown",
   "metadata": {},
   "source": [
    "## Subteam generation\n",
    "\n",
    "Now we're getting to the spicy stuff!\n",
    "\n",
    "We can generate the subteams for each main team, but there's a few caveats:\n",
    "\n",
    "- Some of the sports are going to happen simultaneously, which is accounted for by the SportEvent class keeping book about that, and weights that are assigned while subteams are drawn.\n",
    "- Some players have only chosen one sport. To make sure they can attend that, we are also adjusting their weights while being drawn.\n",
    "- Some of the sports do not have traditional subteam generation, which we need to account for."
   ]
  },
  {
   "cell_type": "markdown",
   "metadata": {},
   "source": [
    "### Generate the subteams for each sport\n",
    "\n",
    "For running/sprints, everyone is on their own, and we have different events.\\\n",
    "As a first iteration, we just group everyone to be in their own subteam.\\\n",
    "Conveniently, all reserve players are also taking part in the other concurrent events.\n",
    "\n",
    "Same with chess."
   ]
  },
  {
   "cell_type": "code",
   "execution_count": null,
   "metadata": {},
   "outputs": [],
   "source": [
    "# from helper_functions.setup import generate_all_subteams , try_switch_players\n",
    "# for team in teams:\n",
    "#     print(f\"MAIN: {team.name}\")\n",
    "#     all_subteams = generate_all_subteams(team, verbose=False)\n",
    "#     # Resolve all monday conflicts:\n",
    "#     try_switch_players(\"Ill-fated Meerkat\", \"Thankful Kakapo\", \"running_sprints\", all_subteams)\n",
    "#     try_switch_players(\"Ideal Vaquita\", \"Ignorant Lemur\", \"basketball\", all_subteams)\n",
    "#     try_switch_players(\"Dramatic Hyena\", \"Amusing Seal\", \"volleyball\", all_subteams)\n",
    "#     try_switch_players(\"Pushy Bulldog\", \"Minty Possum\", \"running_sprints\", all_subteams)\n",
    "#     try_switch_players(\"Excited Rabbit\", \"Minty Possum\", \"volleyball\", all_subteams)\n",
    "#     try_switch_players(\"Reflecting Pug\", \"Scientific Angelfish\", \"volleyball\", all_subteams)\n",
    "#     try_switch_players(\"Alarmed Bird\", \"Scientific Angelfish\", \"basketball\", all_subteams)\n",
    "#     # Resolve all tuesday conflicts:\n",
    "#     try_switch_players(\"Dramatic Hyena\", \"Trifling Tarpon\", \"football\", all_subteams)\n",
    "#     try_switch_players(\"Awkward Cichlid\", \"Nice Albatross\", \"football\", all_subteams)\n",
    "#     try_switch_players(\"Excited Rabbit\", \"Sneaky Quokka\", \"football\", all_subteams)\n",
    "#     # Try to resolve thursday conflicts. Here, we mainly ensure that the players that attend both CdF and Spikeball are in the same Spikeball subteam so we can reschedule it more easily.\n",
    "#     try_switch_players(\"Amusing Seal\", \"Lovely Heron\", \"spikeball\", all_subteams)\n",
    "#     try_switch_players(\"Minty Possum\", \"Sneaky Quokka\", \"spikeball\", all_subteams)\n",
    "#     # Friday\n",
    "#     try_switch_players(\"Magnificent Barracuda\", \"Dishonest Fangtooth\", \"beer_pong\", all_subteams)\n",
    "#     try_switch_players(\"Marvelous Opossum\", \"Damaged Fly\", \"foosball\", all_subteams)\n",
    "#     try_switch_players(\"Ill-fated Meerkat\", \"Trivial Uguisu\", \"beer_pong\", all_subteams)\n",
    "#     try_switch_players(\"Unwritten Saiga\", \"Minty Possum\", \"beer_pong\", all_subteams)\n",
    "#     team.add_subteam_keys(all_subteams)\n",
    "#     team.create_backup()\n",
    "    \n",
    "# hf.ALL_TEAMS = teams\n",
    "# teams[1].player_df[teams[1].player_df[\"running_sprints\"]][[\"nickname\", \"subteam_running_sprints\"]]\n"
   ]
  },
  {
   "cell_type": "code",
   "execution_count": null,
   "metadata": {},
   "outputs": [],
   "source": [
    "df = hf.turn_series_list_to_dataframe([subteam.as_series for subteam in hf.ALL_SUBTEAMS.values() if subteam.is_reserve])\n",
    "df[\"reserve_num\"] = df[\"players\"].apply(len)\n",
    "df = df.sort_values(\"reserve_num\")\n",
    "all_players = [player for player_list in df[\"players\"] for player in player_list]\n",
    "names, counts = np.unique(all_players, return_counts=True)\n",
    "print({player: count for player, count in zip(names, counts) if count > 1})\n",
    "df[[\"sport\", \"team_key\", \"players\", \"reserve_num\"]]\n"
   ]
  },
  {
   "cell_type": "markdown",
   "metadata": {},
   "source": [
    "## Match scheduling\n",
    "\n",
    "Now that all subteams have been determined, we can start scheduling the matches between them.\n",
    "\n",
    "This process provides several challenges:\n",
    "\n",
    "- We need to find a way for each subteam to play only against subteams form the other main teams, and this in a balanced manner.\n",
    "- We need to consider that the same subteam can't play at two pitches at the same time.\n",
    "- We need to look out for players that are doubly-booked and try to find workarounds.\n",
    "- **Ping pong** is a big headache:\n",
    "  - We want each player to have one match against one player of each of the other teams, but not have the other two players face each other to avoid grouping effects.\n",
    "  - We want to schedule matches every day.\n",
    "  - We want these matches to not overlap with any of the player's other activities.\n"
   ]
  },
  {
   "cell_type": "code",
   "execution_count": null,
   "metadata": {},
   "outputs": [],
   "source": [
    "\n",
    "def reshuffle_list(list_to_shuffle: list, interval=2) -> list:\n",
    "    \"\"\"\n",
    "    Reshuffles a list by taking elements at regular intervals and concatenating them.\n",
    "\n",
    "    Parameters\n",
    "    ----------\n",
    "    list_to_shuffle (list): The list to be reshuffled.\n",
    "    interval (int, optional): The interval at which elements are taken from the list. Default is 2.\n",
    "\n",
    "    Returns\n",
    "    -------\n",
    "    list: The reshuffled list.\n",
    "\n",
    "    Example\n",
    "    -------\n",
    "    >>> my_list = [1, 2, 3, 4, 5]\n",
    "    >>> reshuffle_list(my_list, interval=3)\n",
    "        --> [1, 4, 2, 5, 3]\n",
    "    This is equivalent to --> my_list[::3] + my_list[1::3] + my_list[2::3]\n",
    "    \"\"\"\n",
    "    slices = [slice(i, None, interval) for i in range(interval)]\n",
    "    return [entry for my_slice in slices for entry in list_to_shuffle[my_slice]]\n",
    "\n",
    "def schedule_matches(sport_event: SportEvent) -> list[Match]:\n",
    "    matchups = determine_rotated_matchups_for_sport(hf.ALL_SUBTEAMS, sport_event.sanitized_name)\n",
    "    # Shuffle them around a bit such that the same subteam doesn't have matches at the same time\n",
    "    matchups = reshuffle_list(matchups, 3)\n",
    "\n",
    "    courts = [\n",
    "        str(i + 1)\n",
    "        for _ in range(len(matchups) // sport_event.num_pitches)\n",
    "        for i in range(sport_event.num_pitches)\n",
    "    ]\n",
    "    date_range = pd.date_range(\n",
    "            start=sport_event.start,\n",
    "            periods=len(matchups),\n",
    "            freq=sport_event.match_duration,\n",
    "        )\n",
    "    dates = [\n",
    "        date\n",
    "        for date in date_range\n",
    "        for _ in range(sport_event.num_pitches)\n",
    "    ]\n",
    "    matches = [Match(sport_event.sanitized_name, start, sport_event.match_duration, matchup[0], matchup[1], location) for start, matchup, location in zip(dates, matchups, courts)]\n",
    "    return matches\n"
   ]
  },
  {
   "cell_type": "code",
   "execution_count": null,
   "metadata": {},
   "outputs": [],
   "source": [
    "\n",
    "ALL_MATCHES = {match.match_key: match for sport in hf.SPORTS_EVENTS.values() for match in schedule_matches(sport) if sport.sanitized_name not in [\"ping_pong\", \"running_sprints\"]}\n",
    "\n",
    "sprints = hf.SPORTS_EVENTS[\"running_sprints\"]\n",
    "subteams = [team for team in sprints.subteams if not team.is_reserve]\n",
    "for comb in combinations(subteams, 2):\n",
    "    match_ = Match(\"running_sprints\", sprints.start, timedelta(minutes=75), comb[0], comb[1], \"Main pitch\")\n",
    "    ALL_MATCHES[match_.match_key] = match_\n",
    "\n",
    "# Resolve all conflicts for spikeball/CdF:\n",
    "ALL_MATCHES[\"spikeball_B: 2_C: 4\"].switch_with_other(ALL_MATCHES[\"spikeball_A: 3_B: 2\"])\n",
    "ALL_MATCHES[\"spikeball_B: 4_C: 3\"].switch_with_other(ALL_MATCHES[\"spikeball_A: 2_B: 1\"])\n",
    "\n",
    "ALL_MATCHES[\"spikeball_B: 1_C: 2\"].set_time_and_loc(18, 45, \"1\")\n",
    "# # Move these two matches to the back as they're otherwise not properly switchable:\n",
    "ALL_MATCHES[\"spikeball_A: 1_B: 4\"].set_time_and_loc(19, 45, \"1\")\n",
    "ALL_MATCHES[\"spikeball_C: 4_A: 4\"].set_time_and_loc(19, 45, \"2\")\n",
    "ALL_MATCHES[\"spikeball_A: 2_B: 1\"].set_time_and_loc(19, 45, \"3\")\n",
    "\n",
    "# Resolve one remaining conflict for beer pong/foosball:\n",
    "ALL_MATCHES[\"foosball_A: 1_B: 3\"].switch_with_other(ALL_MATCHES[\"foosball_A: 4_B: 4\"])\n",
    "\n",
    "num_conflicts = np.sum([comb[0].has_hard_collision(comb[1], verbose=True) for comb in combinations(ALL_MATCHES.values(), 2)])\n",
    "if num_conflicts == 0:\n",
    "    print(\"Successfully removed all conflicts. Yay!\")\n",
    "\n",
    "match_df = hf.turn_series_list_to_dataframe([m.as_series for m in ALL_MATCHES.values()]).sort_values([\"time\", \"location\"])\n",
    "match_df[match_df[\"sport\"] == \"spikeball\"]\n",
    "\n",
    "# team_a\tteam_b\ttime\n",
    "# 29\tA: 1\tB: 1\t17:45\n",
    "# 30\tB: 1\tC: 1\t18:15\n",
    "# 31\tC: 1\tA: 1\t18:45\n",
    "# ALL_MATCHES[\"spikeball_B: 2_C: 4\"]\n"
   ]
  },
  {
   "cell_type": "code",
   "execution_count": null,
   "metadata": {},
   "outputs": [],
   "source": [
    "from datetime import datetime, timedelta, time, date\n",
    "def get_all_timeslots(avail_days: list[str]) -> list[datetime]:\n",
    "    \"\"\"Retrieve all possible timeslots for the given available weekdays.\n",
    "    \"\"\"\n",
    "    all_timeslots = []\n",
    "    for day_tup in [(4, 29), (4, 30), (5, 2), (5, 3)]:\n",
    "        day = date(2024, day_tup[0], day_tup[1])\n",
    "        if day.strftime(\"%A\").lower() not in avail_days:\n",
    "            continue\n",
    "        all_timeslots += [datetime.combine(day, time(17, 45))]\n",
    "        all_timeslots += [datetime.combine(day, time(hour, minute)) for hour in range(18, 21) for minute in [15, 45]]\n",
    "    return all_timeslots\n",
    "\n"
   ]
  },
  {
   "cell_type": "code",
   "execution_count": null,
   "metadata": {},
   "outputs": [],
   "source": [
    "\n",
    "\n",
    "weekdays = {day: [] for day in [\"monday\", \"tuesday\", \"thursday\", \"friday\"]}\n",
    "for sport in hf.SPORTS_EVENTS.values():\n",
    "    if sport.sanitized_name == \"ping_pong\":\n",
    "        continue\n",
    "    for day in sport.days:\n",
    "        weekdays[day].append(sport.sanitized_name)\n",
    "\n",
    "def get_weekdays_for_sports(sports: list[str]) -> list[str]:\n",
    "    return [day for day, day_sports in weekdays.items() if len(set(day_sports).intersection(sports)) >= 1]\n",
    "\n",
    "all_players = hf.get_players(True).set_index(\"nickname\").fillna(\"\")\n",
    "matchups = determine_rotated_matchups_for_sport(hf.ALL_SUBTEAMS, \"ping_pong\")\n",
    "matchup = matchups[1]\n",
    "\n",
    "all_free_times = []\n",
    "for matchup in matchups:\n",
    "    match_players = all_players.loc[matchup[0].players + matchup[1].players]\n",
    "    avail_days = [day for day in weekdays if all(match_players[f\"avail_{day}\"])]\n",
    "    player_sports = [sport for sport in hf.SPORTS_LIST if any(match_players[f\"subteam_{sport}\"].str.isdigit())]\n",
    "    busy_days = get_weekdays_for_sports(player_sports)\n",
    "    preferred_days = [day for day in avail_days if day not in busy_days]\n",
    "    days_to_check = preferred_days if len(preferred_days) > 0 else avail_days\n",
    "\n",
    "    slots = get_all_timeslots(avail_days)\n",
    "    other_player_matches = [match for match in ALL_MATCHES.values() if any([match.contains_player(player) for player in match_players.index])]\n",
    "    time_frames = [match_.get_buffered_timetuple(10) for match_ in other_player_matches]\n",
    "    free_times = [time_ for time_ in slots  if not any(slot[0] <= time_ < slot[1] for slot in time_frames)]\n",
    "    all_free_times.append(free_times)\n"
   ]
  },
  {
   "cell_type": "code",
   "execution_count": null,
   "metadata": {},
   "outputs": [],
   "source": [
    "banned_timeslots = []\n",
    "pp_matches = []\n",
    "num_unsuccessful = 0\n",
    "# sorted(zip(matchups, all_free_times), key=lambda pair: len(pair[1]))\n",
    "for matchup, timeslots in sorted(zip(matchups, all_free_times), key=lambda pair: len(pair[1])):\n",
    "    avail_timelots = [slot for slot in timeslots if banned_timeslots.count(slot) < 3]\n",
    "    if len(avail_timelots) == 0:\n",
    "        num_unsuccessful += 1\n",
    "        print(matchup)\n",
    "        continue\n",
    "    match_time = avail_timelots[0]\n",
    "    banned_timeslots.append(match_time)\n",
    "    location = str(banned_timeslots.count(match_time))\n",
    "    match_ = Match(\"ping_pong\", match_time, timedelta(minutes=30), matchup[0], matchup[1], location)\n",
    "    pp_matches.append(match_)\n",
    "print(num_unsuccessful)\n",
    "pp_matches = sorted(pp_matches, key=lambda match_: match_.start)\n",
    "# pp_matches\n",
    "write_match_backup(list(ALL_MATCHES.values()) + pp_matches, overwrite=False)\n",
    "pd.DataFrame([m.as_series for m in pp_matches])#.sort_values([\"day\", \"time\", \"location\"])\n"
   ]
  },
  {
   "cell_type": "code",
   "execution_count": null,
   "metadata": {},
   "outputs": [],
   "source": [
    "\n",
    "matches = [Match.from_dataframe_entry(m, hf.ALL_SUBTEAMS) for _, m in match_df.iterrows()]\n",
    "match_df2 = hf.turn_series_list_to_dataframe([m.as_series for m in matches])\n",
    "# all(match_df2 == match_df)\n",
    "# match_df.drop(columns=[\"location\"])\n"
   ]
  },
  {
   "cell_type": "code",
   "execution_count": null,
   "metadata": {},
   "outputs": [],
   "source": [
    "players = pd.concat([team.player_df.fillna(\"\") for team in hf.ALL_TEAMS])\n",
    "player = Player.from_series(players.iloc[2], list(hf.ALL_MATCHES))\n",
    "print(player.nickname)\n",
    "sched = player.get_schedule()\n",
    "# players.iloc[0]\n",
    "from IPython.display import Markdown\n",
    "Markdown(sched) \n"
   ]
  }
 ],
 "metadata": {
  "kernelspec": {
   "display_name": "3_12_streamlit",
   "language": "python",
   "name": "python3"
  },
  "language_info": {
   "codemirror_mode": {
    "name": "ipython",
    "version": 3
   },
   "file_extension": ".py",
   "mimetype": "text/x-python",
   "name": "python",
   "nbconvert_exporter": "python",
   "pygments_lexer": "ipython3",
   "version": "3.12.2"
  }
 },
 "nbformat": 4,
 "nbformat_minor": 2
}
