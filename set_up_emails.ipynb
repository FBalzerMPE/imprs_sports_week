{
 "cells": [
  {
   "cell_type": "code",
   "execution_count": 6,
   "metadata": {},
   "outputs": [],
   "source": [
    "import helper_functions as hf\n",
    "from helper_functions.classes.player import Player\n",
    "from helper_functions.setup.email_handling import get_email_address\n",
    "from IPython.display import Markdown, HTML\n",
    "import win32clipboard\n",
    "import markdown\n",
    "import pandas as pd\n",
    "\n",
    "def copy_to_clipboard(text: str):\n",
    "    win32clipboard.OpenClipboard()\n",
    "    win32clipboard.EmptyClipboard()\n",
    "    win32clipboard.SetClipboardText(text, win32clipboard.CF_UNICODETEXT)\n",
    "    win32clipboard.CloseClipboard()\n",
    "\n",
    "\n",
    "email_base_text = hf.DATAPATH.joinpath(\"helper_texts/email_blank_text.md\").read_text(encoding=\"utf-8\")\n",
    "hidden_df = hf.FpathRegistry.get_hidden_responses().set_index(\"nickname\")\n",
    "df = hf.get_players().set_index(\"nickname\", drop=False).fillna(\"\")\n",
    "df.head()\n",
    "\n",
    "df = df.join(hidden_df[[col for col in hidden_df.columns if not col in df.columns]], how=\"left\")\n",
    "\n"
   ]
  },
  {
   "cell_type": "code",
   "execution_count": 10,
   "metadata": {},
   "outputs": [],
   "source": [
    "def get_email_text_for_player(player: pd.Series) -> tuple[str, str]:\n",
    "    first_name = player[\"name\"].split()[0]\n",
    "    nickname = player[\"nickname\"]\n",
    "    team_name = player[\"Team\"]\n",
    "    cloth_color = {\"Team A\": \"dark\", \"Team B\": \"white\", \"Team C\": \"colorful\"}\n",
    "    email = get_email_address(player[\"email\"])\n",
    "    \n",
    "    player_obj = Player.from_series(player, list(hf.ALL_MATCHES))\n",
    "    schedule = player_obj.get_schedule()\n",
    "    return email, email_base_text.format(first_name=first_name, nickname=nickname, schedule=schedule, team_name=team_name, cloth_color=cloth_color)\n",
    "\n",
    "player = df.loc[\"Thankful Kakapo\"]\n",
    "address, text = get_email_text_for_player(player)\n",
    "text = markdown.markdown(text.replace(\"\\\\\", \"<br>\"))\n",
    "copy_to_clipboard(text)\n"
   ]
  },
  {
   "cell_type": "code",
   "execution_count": 74,
   "metadata": {},
   "outputs": [
    {
     "data": {
      "text/plain": [
       "Index(['nickname', 'institute', 'is_postdoc', 'avail_monday', 'avail_tuesday',\n",
       "       'avail_thursday', 'avail_friday', 'wants_basketball', 'basketball',\n",
       "       'wants_running_sprints', 'running_sprints', 'wants_volleyball',\n",
       "       'volleyball', 'wants_chess', 'chess', 'wants_football', 'football',\n",
       "       'wants_tennis', 'tennis', 'wants_capture_the_flag', 'capture_the_flag',\n",
       "       'wants_spikeball', 'spikeball', 'wants_beer_pong', 'beer_pong',\n",
       "       'wants_foosball', 'foosball', 'wants_ping_pong', 'ping_pong',\n",
       "       'num_sports', 'num_sports_not_avail', 'late_entry', 'Team',\n",
       "       'subteam_basketball', 'subteam_running_sprints', 'subteam_volleyball',\n",
       "       'subteam_chess', 'subteam_football', 'subteam_tennis',\n",
       "       'subteam_capture_the_flag', 'subteam_spikeball', 'subteam_beer_pong',\n",
       "       'subteam_foosball', 'subteam_ping_pong', 'num_sports_attending',\n",
       "       'attendance_ratio', 'response_timestamp', 'name', 'phd_or_postdoc',\n",
       "       'time_available', 'events_interested_in', 'email', 'is_phd'],\n",
       "      dtype='object')"
      ]
     },
     "execution_count": 74,
     "metadata": {},
     "output_type": "execute_result"
    }
   ],
   "source": [
    "df.columns\n"
   ]
  },
  {
   "cell_type": "code",
   "execution_count": null,
   "metadata": {},
   "outputs": [],
   "source": [
    "\n",
    "\n",
    "player = Player.from_series(df.loc[\"Animated Yak\"], list(hf.ALL_MATCHES))\n",
    "player.get_schedule()\n",
    "\n",
    "sched = player.get_schedule()\n",
    "\n",
    "text_to_copy = \"<b>Hello, World!🏀</b>\"\n",
    "md_text = markdown.markdown(sched.replace(\"\\\\\", \"<br>\"))\n",
    "copy_to_clipboard(md_text)\n"
   ]
  },
  {
   "cell_type": "code",
   "execution_count": 30,
   "metadata": {},
   "outputs": [
    {
     "name": "stdout",
     "output_type": "stream",
     "text": [
      "Collecting markdown\n",
      "  Downloading Markdown-3.6-py3-none-any.whl.metadata (7.0 kB)\n",
      "Downloading Markdown-3.6-py3-none-any.whl (105 kB)\n",
      "   ---------------------------------------- 0.0/105.4 kB ? eta -:--:--\n",
      "   --- ------------------------------------ 10.2/105.4 kB ? eta -:--:--\n",
      "   ---------------------------------------- 105.4/105.4 kB 1.5 MB/s eta 0:00:00\n",
      "Installing collected packages: markdown\n",
      "Successfully installed markdown-3.6\n"
     ]
    }
   ],
   "source": []
  }
 ],
 "metadata": {
  "kernelspec": {
   "display_name": "3_12_streamlit",
   "language": "python",
   "name": "python3"
  },
  "language_info": {
   "codemirror_mode": {
    "name": "ipython",
    "version": 3
   },
   "file_extension": ".py",
   "mimetype": "text/x-python",
   "name": "python",
   "nbconvert_exporter": "python",
   "pygments_lexer": "ipython3",
   "version": "3.12.2"
  }
 },
 "nbformat": 4,
 "nbformat_minor": 2
}
