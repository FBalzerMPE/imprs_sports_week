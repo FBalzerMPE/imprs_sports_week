{
 "cells": [
  {
   "cell_type": "markdown",
   "metadata": {},
   "source": [
    "# Final schedules\n",
    "\n",
    "We can use this document to generate pdfs of the real final schedules."
   ]
  },
  {
   "cell_type": "code",
   "execution_count": 33,
   "metadata": {},
   "outputs": [],
   "source": [
    "from markdown import markdown\n",
    "from reportlab.lib.units import cm\n",
    "from reportlab.platypus import SimpleDocTemplate, Paragraph, Spacer, Table, Image\n",
    "from reportlab.lib.pagesizes import A4\n",
    "from reportlab.lib.styles import getSampleStyleSheet\n",
    "import helper_functions as hf\n",
    "from helper_functions.setup.setup_util import get_real_player_name\n"
   ]
  },
  {
   "cell_type": "code",
   "execution_count": 40,
   "metadata": {},
   "outputs": [],
   "source": [
    "from IPython.display import Markdown\n",
    "sport = \"basketball\"\n",
    "for sport in hf.SPORTS_LIST:\n",
    "    text = hf.SPORTS_EVENTS[sport].get_clear_name_schedule()\n",
    "    # Markdown(text)\n",
    "    hf.copy_to_clipboard(text)\n",
    "    with hf.DATAPATH.joinpath(f\"hidden/schedules/Sports week schedule for {sport}.md\").open(\"w\", encoding=\"utf-8\") as f:\n",
    "        f.write(text)\n"
   ]
  },
  {
   "cell_type": "code",
   "execution_count": 35,
   "metadata": {},
   "outputs": [],
   "source": [
    "def create_single_display(nickname: str, team: str) -> Table:\n",
    "    avatar_size = 2*cm\n",
    "    fpath = hf.FpathRegistry.get_animal_pic_path(nickname, False)\n",
    "    true_name = get_real_player_name(nickname, False)\n",
    "    \n",
    "    true_name_text = f\"<strong>{true_name}</strong>\" + f\" ({team})\"\n",
    "    nickname_text = f\"<i>{nickname}</i>\"\n",
    "    true_name_paragraph = Paragraph(true_name_text, getSampleStyleSheet()['Normal'])\n",
    "\n",
    "    hf.SPORTS_ORGANIZERS\n",
    "    # Create a line\n",
    "    line = Spacer(1, 0.1*cm)\n",
    "    line.hAlign = 'CENTER'\n",
    "    line.getSpaceBefore = lambda: 0.1*cm\n",
    "    line.getSpaceAfter = lambda: 0.1*cm\n",
    "    line.drawOn = lambda canvas, x, y: canvas.line(x, y, x+6 *cm, y)\n",
    "    nickname_paragraph = Paragraph(nickname_text, getSampleStyleSheet()['Normal'])\n",
    "\n",
    "    name_table = Table([[true_name_paragraph], [line], [nickname_paragraph]])\n",
    "\n",
    "    avatar = Image(fpath, width=avatar_size, height=avatar_size)\n",
    "    return Table([[avatar, name_table]],\n",
    "                             colWidths=[avatar_size, 6.7*cm])\n",
    "\n",
    "\n",
    "def create_matchup_row(nickname1: str, teamkey1: str, nickname2: str, teamkey2: str, time: str, place: str):\n",
    "    p1_disp = create_single_display(nickname1, teamkey1)\n",
    "    p2_disp = create_single_display(nickname2, teamkey2)\n",
    "    styles = getSampleStyleSheet()\n",
    "    # Create Paragraphs for the time and place\n",
    "    p_time = Paragraph(time, styles['Normal'])\n",
    "    p_place = Paragraph(place, styles['Normal'])\n",
    "\n",
    "    # Return the elements as a row\n",
    "    return [p_time, p_place, p1_disp, p2_disp]\n",
    "\n",
    "marg = 0.2*cm\n",
    "doc = SimpleDocTemplate(str(hf.DATAPATH.joinpath(\"matchups.pdf\")), pagesize=A4, leftMargin=marg, rightMargin=marg, topMargin=marg, bottomMargin=marg)\n",
    "style = getSampleStyleSheet()\n",
    "\n",
    "chess_matchups = hf.SPORTS_EVENTS[\"chess\"].matches\n",
    "data = []\n",
    "for m in chess_matchups:\n",
    "    row = create_matchup_row(m.subteam_a.players[0], m.subteam_a.full_key, m.subteam_b.players[0], m.subteam_b.full_key, m.start.strftime(\"%H:%M\"), m.location)\n",
    "    data.append(row)\n",
    "\n",
    "# Create a Table with the data and add it to the elements list\n",
    "table = Table(data)\n",
    "elements = [table]\n",
    "\n",
    "doc.build(elements)\n"
   ]
  },
  {
   "cell_type": "code",
   "execution_count": 17,
   "metadata": {},
   "outputs": [
    {
     "data": {
      "text/plain": [
       "[Subteam(sport='chess', main_team_letter='A', sub_key='2', players=['Cool Weasel']),\n",
       " Subteam(sport='chess', main_team_letter='A', sub_key='1', players=['Trifling Tarpon']),\n",
       " Subteam(sport='chess', main_team_letter='A', sub_key='3', players=['Pleasing Mongrel']),\n",
       " Subteam(sport='chess', main_team_letter='B', sub_key='2', players=['Trivial Uguisu']),\n",
       " Subteam(sport='chess', main_team_letter='B', sub_key='1', players=['Awkward Cichlid']),\n",
       " Subteam(sport='chess', main_team_letter='B', sub_key='R', players=['Hasty Emu']),\n",
       " Subteam(sport='chess', main_team_letter='B', sub_key='3', players=['Ornate Cockatoo']),\n",
       " Subteam(sport='chess', main_team_letter='C', sub_key='2', players=['Excited Rabbit']),\n",
       " Subteam(sport='chess', main_team_letter='C', sub_key='1', players=['Clever Wombat']),\n",
       " Subteam(sport='chess', main_team_letter='C', sub_key='3', players=['Reckless Swan'])]"
      ]
     },
     "execution_count": 17,
     "metadata": {},
     "output_type": "execute_result"
    }
   ],
   "source": [
    "hf.SPORTS_EVENTS[\"chess\"].get_clear_name_schedule\n"
   ]
  },
  {
   "cell_type": "code",
   "execution_count": null,
   "metadata": {},
   "outputs": [],
   "source": [
    "\n",
    "# Your Markdown text\n",
    "markdown_text = \"\"\"\n",
    "# Heading 1\n",
    "## Heading 2\n",
    "### Heading 3\n",
    "- Bullet point\n",
    "1. Numbered list\n",
    "**Bold text**\n",
    "*Italic text*\n",
    "\"\"\"\n",
    "\n",
    "# Convert the Markdown to HTML\n",
    "html_text = markdown(markdown_text)\n",
    "\n",
    "# Create a Paragraph with the HTML\n",
    "style = getSampleStyleSheet()['Normal']\n",
    "paragraph = Paragraph(html_text, style)\n",
    "\n",
    "# Create a SimpleDocTemplate for an A4 document\n",
    "doc = SimpleDocTemplate(\"output.pdf\", pagesize=A4)\n",
    "\n",
    "# Add the Paragraph to the SimpleDocTemplate and build the PDF\n",
    "doc.build([paragraph])\n"
   ]
  }
 ],
 "metadata": {
  "kernelspec": {
   "display_name": "3_12_streamlit",
   "language": "python",
   "name": "python3"
  },
  "language_info": {
   "codemirror_mode": {
    "name": "ipython",
    "version": 3
   },
   "file_extension": ".py",
   "mimetype": "text/x-python",
   "name": "python",
   "nbconvert_exporter": "python",
   "pygments_lexer": "ipython3",
   "version": "3.12.2"
  }
 },
 "nbformat": 4,
 "nbformat_minor": 2
}
